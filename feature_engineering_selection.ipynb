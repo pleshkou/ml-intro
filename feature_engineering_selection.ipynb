{
  "nbformat": 4,
  "nbformat_minor": 0,
  "metadata": {
    "kernelspec": {
      "display_name": "Python 3",
      "language": "python",
      "name": "python3"
    },
    "language_info": {
      "codemirror_mode": {
        "name": "ipython",
        "version": 3
      },
      "file_extension": ".py",
      "mimetype": "text/x-python",
      "name": "python",
      "nbconvert_exporter": "python",
      "pygments_lexer": "ipython3",
      "version": "3.7.9"
    },
    "toc": {
      "base_numbering": 1,
      "nav_menu": {},
      "number_sections": true,
      "sideBar": true,
      "skip_h1_title": false,
      "title_cell": "Table of Contents",
      "title_sidebar": "Contents",
      "toc_cell": false,
      "toc_position": {
        "height": "calc(100% - 180px)",
        "left": "10px",
        "top": "150px",
        "width": "404.21px"
      },
      "toc_section_display": true,
      "toc_window_display": true
    },
    "colab": {
      "name": "Copy of feature_engineering_selection.ipynb",
      "provenance": [],
      "collapsed_sections": [
        "0Rr-dXPPbTZX",
        "BLZwYYZFbTZ7",
        "t_W3FmFebTaU"
      ]
    }
  },
  "cells": [
    {
      "cell_type": "markdown",
      "metadata": {
        "id": "72wGKz_6bTZE"
      },
      "source": [
        "**Data preparation** is one of the essential processes in machine learning projects workflow: with well-prepared input even simple algorithm can achieve great result, and without it --- it’s hard to get something meaningful even using the most sophisticated models (remember concept of \"[garbage in — garbage out](https://en.wikipedia.org/wiki/Garbage_in,_garbage_out)\").\n",
        "\n",
        "Usually, specific preparation of data for ML modeling can be considered as part of [ETL](https://en.wikipedia.org/wiki/Extract,_transform,_load) process and consists of following steps:\n",
        "\n",
        "* **feature engineering**: transformation of raw data into proper features, that can be useful for modeling; sometimes, when original data is complex enough (e. g. text, images) this process is also called *feature extraction, feature preparation*.\n",
        "* **feature selection**: removing unnecessary features (usually it can help to improve model quality/performance/etc).\n"
      ]
    },
    {
      "cell_type": "code",
      "metadata": {
        "id": "eKU2BRNSeNai"
      },
      "source": [
        "# !pip install -U scikit-learn"
      ],
      "execution_count": 1,
      "outputs": []
    },
    {
      "cell_type": "code",
      "metadata": {
        "id": "ThodHiKabTZU"
      },
      "source": [
        "import numpy as np\n",
        "import pandas as pd\n",
        "import seaborn as sns\n",
        "import matplotlib.pyplot as plt\n",
        "\n",
        "from scipy import stats\n",
        "\n",
        "from sklearn.impute import SimpleImputer\n",
        "from sklearn.preprocessing import StandardScaler, MinMaxScaler, OrdinalEncoder, OneHotEncoder\n",
        "from sklearn.decomposition import PCA\n",
        "\n",
        "from sklearn.feature_selection import VarianceThreshold, SelectFromModel, RFECV, SequentialFeatureSelector\n",
        "\n",
        "from sklearn.ensemble import RandomForestClassifier, RandomForestRegressor\n",
        "from sklearn.linear_model import LogisticRegression, LogisticRegressionCV\n",
        "\n",
        "from sklearn.model_selection import KFold, cross_val_score, train_test_split, GroupShuffleSplit\n",
        "from sklearn.pipeline import Pipeline, make_pipeline\n",
        "from sklearn.metrics import accuracy_score\n",
        "from sklearn.cluster import KMeans\n",
        "\n",
        "from sklearn.datasets import make_classification, load_wine, load_breast_cancer, load_diabetes"
      ],
      "execution_count": 2,
      "outputs": []
    },
    {
      "cell_type": "code",
      "metadata": {
        "id": "jOYUYL3rbTZW"
      },
      "source": [
        "plt.style.use('seaborn-darkgrid')\r\n",
        "%matplotlib inline"
      ],
      "execution_count": 3,
      "outputs": []
    },
    {
      "cell_type": "code",
      "metadata": {
        "id": "mwfqFVsCbTZW"
      },
      "source": [
        "def plot_scatter(x, y, auto_scaled=True, title=None, clusters=None):\n",
        "    plt.figure(figsize=(4, 4))\n",
        "    plt.scatter(x, y)\n",
        "    \n",
        "    if not auto_scaled:\n",
        "        plt.axis('square')\n",
        "    \n",
        "    plt.grid(True)\n",
        "    plt.title(title)\n",
        "    \n",
        "    plt.show()\n",
        "    \n",
        "def return_X_y(data, target_column):\n",
        "    return data.drop(target_column, axis=1), data[target_column]"
      ],
      "execution_count": 4,
      "outputs": []
    },
    {
      "cell_type": "markdown",
      "metadata": {
        "id": "0Rr-dXPPbTZX"
      },
      "source": [
        "# Feature Engineering"
      ]
    },
    {
      "cell_type": "markdown",
      "metadata": {
        "id": "7HIdtbq5bTZY"
      },
      "source": [
        "## Missing Values Preprocessing"
      ]
    },
    {
      "cell_type": "code",
      "metadata": {
        "id": "pMO8Nb3sbTZZ"
      },
      "source": [
        "housing_data = pd.read_csv('Melbourne_housing_FULL.csv')\n",
        "# prepare dataset for price regression\n",
        "housing_data = housing_data[~housing_data['Price'].isnull()]"
      ],
      "execution_count": 5,
      "outputs": []
    },
    {
      "cell_type": "markdown",
      "metadata": {
        "id": "M6hznEW5bTZZ"
      },
      "source": [
        "Missing values are one of the most common problems you can encounter when you try to prepare your data for machine learning. The reason for the missing values might be human errors, interruptions in the data flow, privacy concerns, and so on. Whatever is the reason, missing values affect the performance of the machine learning models (most of the algorithms do not even accept datasets with missing values)."
      ]
    },
    {
      "cell_type": "markdown",
      "metadata": {
        "id": "qv2OnkRVbTZa"
      },
      "source": [
        "First let's check the amount of missing value in each column of our dataset:"
      ]
    },
    {
      "cell_type": "code",
      "metadata": {
        "id": "aBIVBzYHbTZd"
      },
      "source": [
        "# housing_data.isnull().mean() # housing_data.isnull().sum() to get absolute numbers"
      ],
      "execution_count": 6,
      "outputs": []
    },
    {
      "cell_type": "markdown",
      "metadata": {
        "id": "nvwrxI6QbTZf"
      },
      "source": [
        "The most simple strategy is to drop entire rows and/or columns containing missing values based on some threshold (for example, if column contains more than *30%* --- drop it, then drop all rows that still contains some NaN's)."
      ]
    },
    {
      "cell_type": "code",
      "metadata": {
        "id": "XkCM1Fk-bTZg",
        "colab": {
          "base_uri": "https://localhost:8080/"
        },
        "outputId": "093dac77-225f-428d-ac42-f6f755fc7de6"
      },
      "source": [
        "threshold = 0.3\n",
        "housing_data_dropped = housing_data[housing_data.columns[housing_data.isnull().mean() < threshold]]\n",
        "housing_data_dropped = housing_data_dropped.dropna(axis=0, how='any') # params is optinal here (matching defaults)\n",
        "print(f'Original dataset shape (rows, cols): {housing_data.shape}')\n",
        "print(f'Dataset shape (rows, cols) after dropna: {housing_data_dropped.shape}')"
      ],
      "execution_count": 7,
      "outputs": [
        {
          "output_type": "stream",
          "text": [
            "Original dataset shape (rows, cols): (27247, 21)\n",
            "Dataset shape (rows, cols) after dropna: (20401, 18)\n"
          ],
          "name": "stdout"
        }
      ]
    },
    {
      "cell_type": "markdown",
      "metadata": {
        "id": "FR43CloObTZh"
      },
      "source": [
        "In general dropping data without additional investigation is not a good approach in most cases since you lose a lot of potentially useful information. For this particular dataset we've fully dropped `Landsize`, `BuildingArea` columns (which actually seem like strong features from common sense). \n",
        "\n",
        "Usually a better strategy is to impute the missing values, i.e., to infer them from the known part of the data. However, there is an important selection of what you impute to the missing values. You can use default value of missing values in the column. For example, if you have a column that only has `1` and `N\\A`, then it is likely that the `N\\A` rows may be considered as `0`. \n",
        "Another way is to use basic statistics (like *mean* and *medians* of the columns) for imputation."
      ]
    },
    {
      "cell_type": "code",
      "metadata": {
        "id": "OEX-D_9SbTZi"
      },
      "source": [
        "# const imputing\n",
        "housing_data_const = housing_data.fillna(value=0)\n",
        "\n",
        "# mean imputing\n",
        "housing_data_mean = housing_data.fillna(housing_data.mean())"
      ],
      "execution_count": 8,
      "outputs": []
    },
    {
      "cell_type": "markdown",
      "metadata": {
        "id": "1niEnt-jbTZi"
      },
      "source": [
        "There are also some advanced technics [KNN Imputation](), [Multivariate imputation]().\n",
        "\n",
        "But commonly the most beneficial way is to dig deeper in available data, understand root cases of the problem and develop mixed strategy (for separate features based on investigation results). **Subject matter expertise rules!**\n",
        "\n",
        "For example, one of the questions you may ask yourself to help figure this out is this: \n",
        "\n",
        "`Is this value missing because it wasn't recorded or because it doesn’t exist?`\n",
        "\n",
        "If the value is missing because it doesn’t exist (like the height of the oldest child of someone who doesn't have any children) then it doesn't make sense to try and guess what it might be. These values you probably do want to mark this value using some special tag (or create separate bool feature). On the other hand, if a value is missing because it wasn't recorded, then you may probably use some of the imputation technics mentioned above or even more sophisticated ones.\n"
      ]
    },
    {
      "cell_type": "markdown",
      "metadata": {
        "id": "8xH4FXiRbTZj"
      },
      "source": [
        "## Feature scaling"
      ]
    },
    {
      "cell_type": "code",
      "metadata": {
        "id": "SydbOGNibTZj",
        "colab": {
          "base_uri": "https://localhost:8080/",
          "height": 439
        },
        "outputId": "25a68e61-f5e4-4be2-963e-a14aca254181"
      },
      "source": [
        "wine_sklearn = load_wine(as_frame=True)\n",
        "wine_data, wine_labels = wine_sklearn['data'], wine_sklearn['target']\n",
        "wine_data"
      ],
      "execution_count": 9,
      "outputs": [
        {
          "output_type": "execute_result",
          "data": {
            "text/html": [
              "<div>\n",
              "<style scoped>\n",
              "    .dataframe tbody tr th:only-of-type {\n",
              "        vertical-align: middle;\n",
              "    }\n",
              "\n",
              "    .dataframe tbody tr th {\n",
              "        vertical-align: top;\n",
              "    }\n",
              "\n",
              "    .dataframe thead th {\n",
              "        text-align: right;\n",
              "    }\n",
              "</style>\n",
              "<table border=\"1\" class=\"dataframe\">\n",
              "  <thead>\n",
              "    <tr style=\"text-align: right;\">\n",
              "      <th></th>\n",
              "      <th>alcohol</th>\n",
              "      <th>malic_acid</th>\n",
              "      <th>ash</th>\n",
              "      <th>alcalinity_of_ash</th>\n",
              "      <th>magnesium</th>\n",
              "      <th>total_phenols</th>\n",
              "      <th>flavanoids</th>\n",
              "      <th>nonflavanoid_phenols</th>\n",
              "      <th>proanthocyanins</th>\n",
              "      <th>color_intensity</th>\n",
              "      <th>hue</th>\n",
              "      <th>od280/od315_of_diluted_wines</th>\n",
              "      <th>proline</th>\n",
              "    </tr>\n",
              "  </thead>\n",
              "  <tbody>\n",
              "    <tr>\n",
              "      <th>0</th>\n",
              "      <td>14.23</td>\n",
              "      <td>1.71</td>\n",
              "      <td>2.43</td>\n",
              "      <td>15.6</td>\n",
              "      <td>127.0</td>\n",
              "      <td>2.80</td>\n",
              "      <td>3.06</td>\n",
              "      <td>0.28</td>\n",
              "      <td>2.29</td>\n",
              "      <td>5.64</td>\n",
              "      <td>1.04</td>\n",
              "      <td>3.92</td>\n",
              "      <td>1065.0</td>\n",
              "    </tr>\n",
              "    <tr>\n",
              "      <th>1</th>\n",
              "      <td>13.20</td>\n",
              "      <td>1.78</td>\n",
              "      <td>2.14</td>\n",
              "      <td>11.2</td>\n",
              "      <td>100.0</td>\n",
              "      <td>2.65</td>\n",
              "      <td>2.76</td>\n",
              "      <td>0.26</td>\n",
              "      <td>1.28</td>\n",
              "      <td>4.38</td>\n",
              "      <td>1.05</td>\n",
              "      <td>3.40</td>\n",
              "      <td>1050.0</td>\n",
              "    </tr>\n",
              "    <tr>\n",
              "      <th>2</th>\n",
              "      <td>13.16</td>\n",
              "      <td>2.36</td>\n",
              "      <td>2.67</td>\n",
              "      <td>18.6</td>\n",
              "      <td>101.0</td>\n",
              "      <td>2.80</td>\n",
              "      <td>3.24</td>\n",
              "      <td>0.30</td>\n",
              "      <td>2.81</td>\n",
              "      <td>5.68</td>\n",
              "      <td>1.03</td>\n",
              "      <td>3.17</td>\n",
              "      <td>1185.0</td>\n",
              "    </tr>\n",
              "    <tr>\n",
              "      <th>3</th>\n",
              "      <td>14.37</td>\n",
              "      <td>1.95</td>\n",
              "      <td>2.50</td>\n",
              "      <td>16.8</td>\n",
              "      <td>113.0</td>\n",
              "      <td>3.85</td>\n",
              "      <td>3.49</td>\n",
              "      <td>0.24</td>\n",
              "      <td>2.18</td>\n",
              "      <td>7.80</td>\n",
              "      <td>0.86</td>\n",
              "      <td>3.45</td>\n",
              "      <td>1480.0</td>\n",
              "    </tr>\n",
              "    <tr>\n",
              "      <th>4</th>\n",
              "      <td>13.24</td>\n",
              "      <td>2.59</td>\n",
              "      <td>2.87</td>\n",
              "      <td>21.0</td>\n",
              "      <td>118.0</td>\n",
              "      <td>2.80</td>\n",
              "      <td>2.69</td>\n",
              "      <td>0.39</td>\n",
              "      <td>1.82</td>\n",
              "      <td>4.32</td>\n",
              "      <td>1.04</td>\n",
              "      <td>2.93</td>\n",
              "      <td>735.0</td>\n",
              "    </tr>\n",
              "    <tr>\n",
              "      <th>...</th>\n",
              "      <td>...</td>\n",
              "      <td>...</td>\n",
              "      <td>...</td>\n",
              "      <td>...</td>\n",
              "      <td>...</td>\n",
              "      <td>...</td>\n",
              "      <td>...</td>\n",
              "      <td>...</td>\n",
              "      <td>...</td>\n",
              "      <td>...</td>\n",
              "      <td>...</td>\n",
              "      <td>...</td>\n",
              "      <td>...</td>\n",
              "    </tr>\n",
              "    <tr>\n",
              "      <th>173</th>\n",
              "      <td>13.71</td>\n",
              "      <td>5.65</td>\n",
              "      <td>2.45</td>\n",
              "      <td>20.5</td>\n",
              "      <td>95.0</td>\n",
              "      <td>1.68</td>\n",
              "      <td>0.61</td>\n",
              "      <td>0.52</td>\n",
              "      <td>1.06</td>\n",
              "      <td>7.70</td>\n",
              "      <td>0.64</td>\n",
              "      <td>1.74</td>\n",
              "      <td>740.0</td>\n",
              "    </tr>\n",
              "    <tr>\n",
              "      <th>174</th>\n",
              "      <td>13.40</td>\n",
              "      <td>3.91</td>\n",
              "      <td>2.48</td>\n",
              "      <td>23.0</td>\n",
              "      <td>102.0</td>\n",
              "      <td>1.80</td>\n",
              "      <td>0.75</td>\n",
              "      <td>0.43</td>\n",
              "      <td>1.41</td>\n",
              "      <td>7.30</td>\n",
              "      <td>0.70</td>\n",
              "      <td>1.56</td>\n",
              "      <td>750.0</td>\n",
              "    </tr>\n",
              "    <tr>\n",
              "      <th>175</th>\n",
              "      <td>13.27</td>\n",
              "      <td>4.28</td>\n",
              "      <td>2.26</td>\n",
              "      <td>20.0</td>\n",
              "      <td>120.0</td>\n",
              "      <td>1.59</td>\n",
              "      <td>0.69</td>\n",
              "      <td>0.43</td>\n",
              "      <td>1.35</td>\n",
              "      <td>10.20</td>\n",
              "      <td>0.59</td>\n",
              "      <td>1.56</td>\n",
              "      <td>835.0</td>\n",
              "    </tr>\n",
              "    <tr>\n",
              "      <th>176</th>\n",
              "      <td>13.17</td>\n",
              "      <td>2.59</td>\n",
              "      <td>2.37</td>\n",
              "      <td>20.0</td>\n",
              "      <td>120.0</td>\n",
              "      <td>1.65</td>\n",
              "      <td>0.68</td>\n",
              "      <td>0.53</td>\n",
              "      <td>1.46</td>\n",
              "      <td>9.30</td>\n",
              "      <td>0.60</td>\n",
              "      <td>1.62</td>\n",
              "      <td>840.0</td>\n",
              "    </tr>\n",
              "    <tr>\n",
              "      <th>177</th>\n",
              "      <td>14.13</td>\n",
              "      <td>4.10</td>\n",
              "      <td>2.74</td>\n",
              "      <td>24.5</td>\n",
              "      <td>96.0</td>\n",
              "      <td>2.05</td>\n",
              "      <td>0.76</td>\n",
              "      <td>0.56</td>\n",
              "      <td>1.35</td>\n",
              "      <td>9.20</td>\n",
              "      <td>0.61</td>\n",
              "      <td>1.60</td>\n",
              "      <td>560.0</td>\n",
              "    </tr>\n",
              "  </tbody>\n",
              "</table>\n",
              "<p>178 rows × 13 columns</p>\n",
              "</div>"
            ],
            "text/plain": [
              "     alcohol  malic_acid   ash  ...   hue  od280/od315_of_diluted_wines  proline\n",
              "0      14.23        1.71  2.43  ...  1.04                          3.92   1065.0\n",
              "1      13.20        1.78  2.14  ...  1.05                          3.40   1050.0\n",
              "2      13.16        2.36  2.67  ...  1.03                          3.17   1185.0\n",
              "3      14.37        1.95  2.50  ...  0.86                          3.45   1480.0\n",
              "4      13.24        2.59  2.87  ...  1.04                          2.93    735.0\n",
              "..       ...         ...   ...  ...   ...                           ...      ...\n",
              "173    13.71        5.65  2.45  ...  0.64                          1.74    740.0\n",
              "174    13.40        3.91  2.48  ...  0.70                          1.56    750.0\n",
              "175    13.27        4.28  2.26  ...  0.59                          1.56    835.0\n",
              "176    13.17        2.59  2.37  ...  0.60                          1.62    840.0\n",
              "177    14.13        4.10  2.74  ...  0.61                          1.60    560.0\n",
              "\n",
              "[178 rows x 13 columns]"
            ]
          },
          "metadata": {
            "tags": []
          },
          "execution_count": 9
        }
      ]
    },
    {
      "cell_type": "markdown",
      "metadata": {
        "id": "ueDfxcZAbTZk"
      },
      "source": [
        "In real world datasets you can often see multiple features spanning varying degrees of magnitude, range, and units. This is a significant obstacle as a lot of machine learning algorithms are highly sensitive to such things.\n",
        "\n",
        "To make it simple: algorithm just sees number and does not know what that number represents --- if there is a vast difference in the range say few ranging in thousands and few ranging in dozens, it makes the underlying assumption that higher ranging numbers have superiority of some sort. So, these more significant number starts playing a more decisive role while training the model.\n",
        "\n",
        "For example, you might be looking at the prices of some products in both Yen and US Dollars. One US Dollar is worth about 100 Yen, but if you don't scale your prices methods like SVM or KNN will consider a difference in price of 1 Yen as important as a difference of 1 US Dollar! This clearly doesn't fit with our intuitions of the world. With currency, you can convert between currencies. But what about if you're looking at something like height and weight? It's not entirely clear how many pounds should equal one inch (or how many kilograms should equal one meter).\n",
        "\n",
        "By scaling your variables, you can help compare different variables on equal footing (scale)."
      ]
    },
    {
      "cell_type": "markdown",
      "metadata": {
        "id": "lC-Sr2j0bTZl"
      },
      "source": [
        "### Standartization"
      ]
    },
    {
      "cell_type": "markdown",
      "metadata": {
        "id": "vMNSZZvXbTZl"
      },
      "source": [
        "**Standardization** of datasets is a common requirement for many machine learning models. The idea is to transform the data to the center it by removing the mean value of each feature, then scale it by dividing non-constant features by their standard deviation.\n",
        "\n",
        "$$scaled\\_X = \\frac{X - mean(X)}{std(X)}$$, where $X$ is **feature column** (not dataset itself!)\n",
        "\n",
        "A common approach is to use `StandardScaler` from `sklearn`:\n"
      ]
    },
    {
      "cell_type": "code",
      "metadata": {
        "id": "YgmMli4pbTZm",
        "colab": {
          "base_uri": "https://localhost:8080/"
        },
        "outputId": "e446c179-ab7e-402d-e1de-002b0a12d5a2"
      },
      "source": [
        "scaler = StandardScaler()\n",
        "wine_data_scaled = scaler.fit_transform(wine_data)\n",
        "wine_data_scaled"
      ],
      "execution_count": 10,
      "outputs": [
        {
          "output_type": "execute_result",
          "data": {
            "text/plain": [
              "array([[ 1.51861254, -0.5622498 ,  0.23205254, ...,  0.36217728,\n",
              "         1.84791957,  1.01300893],\n",
              "       [ 0.24628963, -0.49941338, -0.82799632, ...,  0.40605066,\n",
              "         1.1134493 ,  0.96524152],\n",
              "       [ 0.19687903,  0.02123125,  1.10933436, ...,  0.31830389,\n",
              "         0.78858745,  1.39514818],\n",
              "       ...,\n",
              "       [ 0.33275817,  1.74474449, -0.38935541, ..., -1.61212515,\n",
              "        -1.48544548,  0.28057537],\n",
              "       [ 0.20923168,  0.22769377,  0.01273209, ..., -1.56825176,\n",
              "        -1.40069891,  0.29649784],\n",
              "       [ 1.39508604,  1.58316512,  1.36520822, ..., -1.52437837,\n",
              "        -1.42894777, -0.59516041]])"
            ]
          },
          "metadata": {
            "tags": []
          },
          "execution_count": 10
        }
      ]
    },
    {
      "cell_type": "markdown",
      "metadata": {
        "id": "o0MNr0IabTZm"
      },
      "source": [
        "Let's illustrate the influence of scaling on [PCA](https://en.wikipedia.org/wiki/Principal_component_analysis):"
      ]
    },
    {
      "cell_type": "code",
      "metadata": {
        "id": "iw_6VonNbTZm",
        "colab": {
          "base_uri": "https://localhost:8080/",
          "height": 617
        },
        "outputId": "621f067d-bea0-449f-ec20-4e0a6fde7e1a"
      },
      "source": [
        "pca = PCA(n_components=2)\n",
        "\n",
        "wine_data_pca = pca.fit_transform(wine_data)\n",
        "wine_data_scaled_pca = pca.fit_transform(wine_data_scaled)\n",
        "\n",
        "fig, (ax1, ax2) = plt.subplots(ncols=2, figsize=(18, 10))\n",
        "\n",
        "for l, c, m in zip(range(0, 3), ('blue', 'red', 'green'), ('^', 's', 'o')):\n",
        "    ax1.scatter(wine_data_pca[wine_labels == l, 0], wine_data_pca[wine_labels == l, 1], \n",
        "                color=c, label=f'class {l}', alpha=0.5, marker=m)\n",
        "\n",
        "for l, c, m in zip(range(0, 3), ('blue', 'red', 'green'), ('^', 's', 'o')):\n",
        "    ax2.scatter(wine_data_scaled_pca[wine_labels == l, 0], wine_data_scaled_pca[wine_labels == l, 1], \n",
        "                color=c, label=f'class {l}', alpha=0.5, marker=m)\n",
        "    \n",
        "ax1.set_title('Dataset after PCA')\n",
        "ax2.set_title('Standardized dataset after PCA')\n",
        "\n",
        "for ax in (ax1, ax2):\n",
        "    ax.set_xlabel('1st principal component')\n",
        "    ax.set_ylabel('2nd principal component')\n",
        "    ax.legend(loc='upper right')"
      ],
      "execution_count": 11,
      "outputs": [
        {
          "output_type": "display_data",
          "data": {
            "image/png": "[encoded data removed]",
            "text/plain": [
              "<Figure size 1296x720 with 2 Axes>"
            ]
          },
          "metadata": {
            "tags": [],
            "needs_background": "light"
          }
        }
      ]
    },
    {
      "cell_type": "markdown",
      "metadata": {
        "id": "KudVrPHmbTZn"
      },
      "source": [
        "### Normalization"
      ]
    },
    {
      "cell_type": "markdown",
      "metadata": {
        "id": "iirqERDObTZo"
      },
      "source": [
        "An alternative standardization is scaling features to lie between a given minimum and maximum value, often between zero and one, or so that the maximum absolute value of each feature is scaled to unit size (also known as **Normalization**.  This can be achieved using `MinMaxScaler` or `MaxAbsScaler` from `sklearn`, respectively.\n",
        "\n",
        "The motivation to use this scaling include robustness to very small standard deviations of features and preserving zero entries in sparse data."
      ]
    },
    {
      "cell_type": "markdown",
      "metadata": {
        "id": "BhWb5QlCbTZo"
      },
      "source": [
        "$$normalised\\_X = \\frac{X - min(X)}{max(X) - min(X)}$$, where $X$ is **feature column** (not dataset itself!)"
      ]
    },
    {
      "cell_type": "code",
      "metadata": {
        "id": "60i_sBBqbTZw",
        "colab": {
          "base_uri": "https://localhost:8080/"
        },
        "outputId": "96b5b520-d5e9-4ed4-97b6-f5f53384a216"
      },
      "source": [
        "from sklearn.preprocessing import MinMaxScaler\n",
        "\n",
        "scaler = MinMaxScaler()\n",
        "scaler.fit_transform(wine_data)"
      ],
      "execution_count": 12,
      "outputs": [
        {
          "output_type": "execute_result",
          "data": {
            "text/plain": [
              "array([[0.84210526, 0.1916996 , 0.57219251, ..., 0.45528455, 0.97069597,\n",
              "        0.56134094],\n",
              "       [0.57105263, 0.2055336 , 0.4171123 , ..., 0.46341463, 0.78021978,\n",
              "        0.55064194],\n",
              "       [0.56052632, 0.3201581 , 0.70053476, ..., 0.44715447, 0.6959707 ,\n",
              "        0.64693295],\n",
              "       ...,\n",
              "       [0.58947368, 0.69960474, 0.48128342, ..., 0.08943089, 0.10622711,\n",
              "        0.39728959],\n",
              "       [0.56315789, 0.36561265, 0.54010695, ..., 0.09756098, 0.12820513,\n",
              "        0.40085592],\n",
              "       [0.81578947, 0.66403162, 0.73796791, ..., 0.10569106, 0.12087912,\n",
              "        0.20114123]])"
            ]
          },
          "metadata": {
            "tags": []
          },
          "execution_count": 12
        }
      ]
    },
    {
      "cell_type": "markdown",
      "metadata": {
        "id": "_A7-tK6ybTZw"
      },
      "source": [
        "## Log/Power Transform"
      ]
    },
    {
      "cell_type": "markdown",
      "metadata": {
        "id": "95rWWq2AbTZx"
      },
      "source": [
        "Log transformation is a data transformation method in which it replaces each variable $x$ with a $log(x)$. The choice of the logarithm base is usually left up to the analyst and it would depend on the purposes of statistical modeling.\n",
        "\n",
        "When our original continuous data do not follow the bell curve, we can log transform this data to make it as “normal” as possible so that the statistical analysis results from this data become more valid. In other words, the log transformation reduces or removes the skewness of our original data. The important caveat here is that the original data has to approximately follow a *log-normal distribution*. Otherwise, you can't expect any guarantees that result distribution will be close to normal (but even in such cases log transform can help to improve you scores)."
      ]
    },
    {
      "cell_type": "code",
      "metadata": {
        "id": "C4p-zCGZbTZy"
      },
      "source": [
        "mu, sigma = 5, 1\n",
        "lognorm_data = np.random.lognormal(mu, sigma, 1000)"
      ],
      "execution_count": 13,
      "outputs": []
    },
    {
      "cell_type": "code",
      "metadata": {
        "id": "80EbKaZtbTZz",
        "colab": {
          "base_uri": "https://localhost:8080/",
          "height": 479
        },
        "outputId": "64ac7af0-083c-45b3-c44a-e7c07bee62e3"
      },
      "source": [
        "plt.figure(figsize=(16,8))\n",
        "sns.histplot(lognorm_data, stat='probability')\n",
        "plt.show()"
      ],
      "execution_count": 14,
      "outputs": [
        {
          "output_type": "display_data",
          "data": {
            "image/png": "[encoded data removed]",
            "text/plain": [
              "<Figure size 1152x576 with 1 Axes>"
            ]
          },
          "metadata": {
            "tags": [],
            "needs_background": "light"
          }
        }
      ]
    },
    {
      "cell_type": "code",
      "metadata": {
        "id": "cSkrYzXSbTZ0",
        "colab": {
          "base_uri": "https://localhost:8080/",
          "height": 479
        },
        "outputId": "2c803acc-5273-4e47-fe1f-490d42890f8a"
      },
      "source": [
        "plt.figure(figsize=(16,8))\n",
        "sns.histplot(np.log(lognorm_data), stat='probability')\n",
        "plt.show()"
      ],
      "execution_count": 15,
      "outputs": [
        {
          "output_type": "display_data",
          "data": {
            "image/png": "[encoded data removed]",
            "text/plain": [
              "<Figure size 1152x576 with 1 Axes>"
            ]
          },
          "metadata": {
            "tags": [],
            "needs_background": "light"
          }
        }
      ]
    },
    {
      "cell_type": "markdown",
      "metadata": {
        "id": "L9Duzoj4bTZ1"
      },
      "source": [
        "This may sound a bit odd: is it even possible to meet something specific like \"log-normal distribution\" in real life?\n",
        "\n",
        "Well, let's plot the price column from Melbourne housing dataset, that we used previously:"
      ]
    },
    {
      "cell_type": "code",
      "metadata": {
        "id": "DP7xYrugbTZ1",
        "colab": {
          "base_uri": "https://localhost:8080/",
          "height": 493
        },
        "outputId": "1989552f-155e-444f-d393-794f8ce7955f"
      },
      "source": [
        "plt.figure(figsize=(16,8))\n",
        "sns.histplot(housing_data['Price'], stat='probability')\n",
        "plt.show()"
      ],
      "execution_count": 16,
      "outputs": [
        {
          "output_type": "display_data",
          "data": {
            "image/png": "[encoded data removed]",
            "text/plain": [
              "<Figure size 1152x576 with 1 Axes>"
            ]
          },
          "metadata": {
            "tags": [],
            "needs_background": "light"
          }
        }
      ]
    },
    {
      "cell_type": "markdown",
      "metadata": {
        "id": "DOo8wPwybTZ2"
      },
      "source": [
        "Seems familiar!\n",
        "\n",
        "Eventually, lognormal distribution of some value in real world is quite common (just like normal distribution). It is suitable for describing length of comments, posted in the internet; the salaries amount; the population of cities and many other things. You may find some [more](https://en.wikipedia.org/wiki/Log-normal_distribution#Occurrence_and_applications) examples just on the wikipedia page.\n",
        "\n",
        "However, to get some profit from this transformation, the distribution does not necessarily have to be *exactly* lognormal; you can try to apply it to any distribution with a heavy right tail. Furthermore, one can try to use other similar transformations, formulating their own hypotheses on how to approximate the available distribution to a normal. Examples of such transformations are Box-Cox transformation (log is a special case of the Box-Cox transformation) or Yeo-Johnson transformation (extends the range of applicability to negative numbers). Some information about these transformations and their implementations in `sklean` can be found [here](https://scikit-learn.org/stable/modules/preprocessing.html#non-linear-transformation)."
      ]
    },
    {
      "cell_type": "markdown",
      "metadata": {
        "id": "2pjG6FkNbTZ3"
      },
      "source": [
        "## Categorical Features Encoding"
      ]
    },
    {
      "cell_type": "markdown",
      "metadata": {
        "id": "EfA0yxu4bTZ3"
      },
      "source": [
        "Quite often features are not given as continuous values but categorical. For example a person could have features `[\"male\", \"female\"], [\"from Europe\", \"from US\", \"from Asia\"], [\"uses Firefox\", \"uses Chrome\", \"uses Safari\", \"uses Internet Explorer\"]`. Such features can be efficiently coded as integers, for instance `[\"male\", \"from US\", \"uses Internet Explorer\"]` could be expressed as `[0, 1, 3]` while `[\"female\", \"from Asia\", \"uses Chrome\"]` would be `[1, 2, 1]`.\n",
        "\n",
        "To convert categorical features to such integer codes, we can use the *ordinal encoding*. It transforms each categorical feature to a range of integers (0 to number of categories - 1)."
      ]
    },
    {
      "cell_type": "code",
      "metadata": {
        "id": "-8pY_bHYbTZ3",
        "colab": {
          "base_uri": "https://localhost:8080/",
          "height": 142
        },
        "outputId": "044485a3-91d2-462e-f2e2-52e0715afcdf"
      },
      "source": [
        "X = [['male', 'US', 'Safari'], ['female', 'Europe', 'Firefox'], ['male', 'Europe', 'Opera']]\n",
        "pd.DataFrame(X, columns=['gender', 'place', 'browser'])"
      ],
      "execution_count": 17,
      "outputs": [
        {
          "output_type": "execute_result",
          "data": {
            "text/html": [
              "<div>\n",
              "<style scoped>\n",
              "    .dataframe tbody tr th:only-of-type {\n",
              "        vertical-align: middle;\n",
              "    }\n",
              "\n",
              "    .dataframe tbody tr th {\n",
              "        vertical-align: top;\n",
              "    }\n",
              "\n",
              "    .dataframe thead th {\n",
              "        text-align: right;\n",
              "    }\n",
              "</style>\n",
              "<table border=\"1\" class=\"dataframe\">\n",
              "  <thead>\n",
              "    <tr style=\"text-align: right;\">\n",
              "      <th></th>\n",
              "      <th>gender</th>\n",
              "      <th>place</th>\n",
              "      <th>browser</th>\n",
              "    </tr>\n",
              "  </thead>\n",
              "  <tbody>\n",
              "    <tr>\n",
              "      <th>0</th>\n",
              "      <td>male</td>\n",
              "      <td>US</td>\n",
              "      <td>Safari</td>\n",
              "    </tr>\n",
              "    <tr>\n",
              "      <th>1</th>\n",
              "      <td>female</td>\n",
              "      <td>Europe</td>\n",
              "      <td>Firefox</td>\n",
              "    </tr>\n",
              "    <tr>\n",
              "      <th>2</th>\n",
              "      <td>male</td>\n",
              "      <td>Europe</td>\n",
              "      <td>Opera</td>\n",
              "    </tr>\n",
              "  </tbody>\n",
              "</table>\n",
              "</div>"
            ],
            "text/plain": [
              "   gender   place  browser\n",
              "0    male      US   Safari\n",
              "1  female  Europe  Firefox\n",
              "2    male  Europe    Opera"
            ]
          },
          "metadata": {
            "tags": []
          },
          "execution_count": 17
        }
      ]
    },
    {
      "cell_type": "code",
      "metadata": {
        "id": "5FiHnAqmbTZ4"
      },
      "source": [
        "encoder = OrdinalEncoder()\n",
        "ordinal_encoded_X = encoder.fit_transform(X)"
      ],
      "execution_count": 18,
      "outputs": []
    },
    {
      "cell_type": "markdown",
      "metadata": {
        "id": "IOHiyrkTbTZ4"
      },
      "source": [
        "Such integer representation can, however, can be unsuitable, for a lot of models: these expect continuous input, and would interpret the categories as being ordered, which is often not desired.\n",
        "\n",
        "Another possibility to convert categorical features to features that can be used with scikit-learn estimators is to use *one-hot* encoding. The idea is to transforms each categorical feature, that has $n$ different possible categories, into $n$ separate binary features (whether the object belongs to specific category or not)."
      ]
    },
    {
      "cell_type": "code",
      "metadata": {
        "id": "_lQFROVqbTZ4"
      },
      "source": [
        "encoder = OneHotEncoder()\n",
        "ohe_encoded_X = encoder.fit_transform(X).toarray()"
      ],
      "execution_count": 19,
      "outputs": []
    },
    {
      "cell_type": "code",
      "metadata": {
        "id": "wur3FdwbbTZ5",
        "colab": {
          "base_uri": "https://localhost:8080/",
          "height": 142
        },
        "outputId": "c76b6f4c-783d-4ac7-f100-d1b71fc19a35"
      },
      "source": [
        "pd.DataFrame(ohe_encoded_X, columns=encoder.get_feature_names())"
      ],
      "execution_count": 20,
      "outputs": [
        {
          "output_type": "execute_result",
          "data": {
            "text/html": [
              "<div>\n",
              "<style scoped>\n",
              "    .dataframe tbody tr th:only-of-type {\n",
              "        vertical-align: middle;\n",
              "    }\n",
              "\n",
              "    .dataframe tbody tr th {\n",
              "        vertical-align: top;\n",
              "    }\n",
              "\n",
              "    .dataframe thead th {\n",
              "        text-align: right;\n",
              "    }\n",
              "</style>\n",
              "<table border=\"1\" class=\"dataframe\">\n",
              "  <thead>\n",
              "    <tr style=\"text-align: right;\">\n",
              "      <th></th>\n",
              "      <th>x0_female</th>\n",
              "      <th>x0_male</th>\n",
              "      <th>x1_Europe</th>\n",
              "      <th>x1_US</th>\n",
              "      <th>x2_Firefox</th>\n",
              "      <th>x2_Opera</th>\n",
              "      <th>x2_Safari</th>\n",
              "    </tr>\n",
              "  </thead>\n",
              "  <tbody>\n",
              "    <tr>\n",
              "      <th>0</th>\n",
              "      <td>0.0</td>\n",
              "      <td>1.0</td>\n",
              "      <td>0.0</td>\n",
              "      <td>1.0</td>\n",
              "      <td>0.0</td>\n",
              "      <td>0.0</td>\n",
              "      <td>1.0</td>\n",
              "    </tr>\n",
              "    <tr>\n",
              "      <th>1</th>\n",
              "      <td>1.0</td>\n",
              "      <td>0.0</td>\n",
              "      <td>1.0</td>\n",
              "      <td>0.0</td>\n",
              "      <td>1.0</td>\n",
              "      <td>0.0</td>\n",
              "      <td>0.0</td>\n",
              "    </tr>\n",
              "    <tr>\n",
              "      <th>2</th>\n",
              "      <td>0.0</td>\n",
              "      <td>1.0</td>\n",
              "      <td>1.0</td>\n",
              "      <td>0.0</td>\n",
              "      <td>0.0</td>\n",
              "      <td>1.0</td>\n",
              "      <td>0.0</td>\n",
              "    </tr>\n",
              "  </tbody>\n",
              "</table>\n",
              "</div>"
            ],
            "text/plain": [
              "   x0_female  x0_male  x1_Europe  x1_US  x2_Firefox  x2_Opera  x2_Safari\n",
              "0        0.0      1.0        0.0    1.0         0.0       0.0        1.0\n",
              "1        1.0      0.0        1.0    0.0         1.0       0.0        0.0\n",
              "2        0.0      1.0        1.0    0.0         0.0       1.0        0.0"
            ]
          },
          "metadata": {
            "tags": []
          },
          "execution_count": 20
        }
      ]
    },
    {
      "cell_type": "markdown",
      "metadata": {
        "id": "61XRLCc5bTZ6"
      },
      "source": [
        "It is also possible to encode each column into  $n - 1$ columns instead of $n$ columns by using the drop parameter (also called *dummy encoding*). This is useful to avoid co-linearity in the input matrix in some classifiers. Such functionality is useful, for example, when using non-regularized regression, since co-linearity would cause the covariance matrix to be non-invertible."
      ]
    },
    {
      "cell_type": "markdown",
      "metadata": {
        "id": "_fXwPiOGbTZ7"
      },
      "source": [
        "You can read about some advanced technics [here](https://www.analyticsvidhya.com/blog/2020/08/types-of-categorical-data-encoding). However, most of them equivalent to one hot encoding to some degree.\n"
      ]
    },
    {
      "cell_type": "markdown",
      "metadata": {
        "id": "BLZwYYZFbTZ7"
      },
      "source": [
        "# Feature Selection"
      ]
    },
    {
      "cell_type": "markdown",
      "metadata": {
        "id": "JVQl4kGwbTZ8"
      },
      "source": [
        "Why is it sometimes necessary to select just subset of features and not all at once? The idea of removing features may seem a little counterintuitive, but there is some import motivation here:\n",
        "\n",
        "1) First is more connected to engeneering side: the more data, the higher the computational complexity. Removing some unimportant and noisy features can help a lot here.    \n",
        "2) The second reason is related to algorithms side: some models can be unstable when data have highly correlated features ([multicolinearity](https://datascience.stackexchange.com/questions/24452/in-supervised-learning-why-is-it-bad-to-have-correlated-features)), some --- when data is noisy. "
      ]
    },
    {
      "cell_type": "code",
      "metadata": {
        "id": "SeYxtnSAbTZ8",
        "colab": {
          "base_uri": "https://localhost:8080/",
          "height": 473
        },
        "outputId": "35a742a6-6ed9-444c-f09a-2a4b24ffc8c6"
      },
      "source": [
        "cancer_sklearn = load_breast_cancer(as_frame=True)\n",
        "cancer_data, cancer_labels = cancer_sklearn['data'], cancer_sklearn['target']\n",
        "cancer_data_scaled = StandardScaler().fit_transform(cancer_data)\n",
        "cancer_data"
      ],
      "execution_count": 21,
      "outputs": [
        {
          "output_type": "execute_result",
          "data": {
            "text/html": [
              "<div>\n",
              "<style scoped>\n",
              "    .dataframe tbody tr th:only-of-type {\n",
              "        vertical-align: middle;\n",
              "    }\n",
              "\n",
              "    .dataframe tbody tr th {\n",
              "        vertical-align: top;\n",
              "    }\n",
              "\n",
              "    .dataframe thead th {\n",
              "        text-align: right;\n",
              "    }\n",
              "</style>\n",
              "<table border=\"1\" class=\"dataframe\">\n",
              "  <thead>\n",
              "    <tr style=\"text-align: right;\">\n",
              "      <th></th>\n",
              "      <th>mean radius</th>\n",
              "      <th>mean texture</th>\n",
              "      <th>mean perimeter</th>\n",
              "      <th>mean area</th>\n",
              "      <th>mean smoothness</th>\n",
              "      <th>mean compactness</th>\n",
              "      <th>mean concavity</th>\n",
              "      <th>mean concave points</th>\n",
              "      <th>mean symmetry</th>\n",
              "      <th>mean fractal dimension</th>\n",
              "      <th>radius error</th>\n",
              "      <th>texture error</th>\n",
              "      <th>perimeter error</th>\n",
              "      <th>area error</th>\n",
              "      <th>smoothness error</th>\n",
              "      <th>compactness error</th>\n",
              "      <th>concavity error</th>\n",
              "      <th>concave points error</th>\n",
              "      <th>symmetry error</th>\n",
              "      <th>fractal dimension error</th>\n",
              "      <th>worst radius</th>\n",
              "      <th>worst texture</th>\n",
              "      <th>worst perimeter</th>\n",
              "      <th>worst area</th>\n",
              "      <th>worst smoothness</th>\n",
              "      <th>worst compactness</th>\n",
              "      <th>worst concavity</th>\n",
              "      <th>worst concave points</th>\n",
              "      <th>worst symmetry</th>\n",
              "      <th>worst fractal dimension</th>\n",
              "    </tr>\n",
              "  </thead>\n",
              "  <tbody>\n",
              "    <tr>\n",
              "      <th>0</th>\n",
              "      <td>17.99</td>\n",
              "      <td>10.38</td>\n",
              "      <td>122.80</td>\n",
              "      <td>1001.0</td>\n",
              "      <td>0.11840</td>\n",
              "      <td>0.27760</td>\n",
              "      <td>0.30010</td>\n",
              "      <td>0.14710</td>\n",
              "      <td>0.2419</td>\n",
              "      <td>0.07871</td>\n",
              "      <td>1.0950</td>\n",
              "      <td>0.9053</td>\n",
              "      <td>8.589</td>\n",
              "      <td>153.40</td>\n",
              "      <td>0.006399</td>\n",
              "      <td>0.04904</td>\n",
              "      <td>0.05373</td>\n",
              "      <td>0.01587</td>\n",
              "      <td>0.03003</td>\n",
              "      <td>0.006193</td>\n",
              "      <td>25.380</td>\n",
              "      <td>17.33</td>\n",
              "      <td>184.60</td>\n",
              "      <td>2019.0</td>\n",
              "      <td>0.16220</td>\n",
              "      <td>0.66560</td>\n",
              "      <td>0.7119</td>\n",
              "      <td>0.2654</td>\n",
              "      <td>0.4601</td>\n",
              "      <td>0.11890</td>\n",
              "    </tr>\n",
              "    <tr>\n",
              "      <th>1</th>\n",
              "      <td>20.57</td>\n",
              "      <td>17.77</td>\n",
              "      <td>132.90</td>\n",
              "      <td>1326.0</td>\n",
              "      <td>0.08474</td>\n",
              "      <td>0.07864</td>\n",
              "      <td>0.08690</td>\n",
              "      <td>0.07017</td>\n",
              "      <td>0.1812</td>\n",
              "      <td>0.05667</td>\n",
              "      <td>0.5435</td>\n",
              "      <td>0.7339</td>\n",
              "      <td>3.398</td>\n",
              "      <td>74.08</td>\n",
              "      <td>0.005225</td>\n",
              "      <td>0.01308</td>\n",
              "      <td>0.01860</td>\n",
              "      <td>0.01340</td>\n",
              "      <td>0.01389</td>\n",
              "      <td>0.003532</td>\n",
              "      <td>24.990</td>\n",
              "      <td>23.41</td>\n",
              "      <td>158.80</td>\n",
              "      <td>1956.0</td>\n",
              "      <td>0.12380</td>\n",
              "      <td>0.18660</td>\n",
              "      <td>0.2416</td>\n",
              "      <td>0.1860</td>\n",
              "      <td>0.2750</td>\n",
              "      <td>0.08902</td>\n",
              "    </tr>\n",
              "    <tr>\n",
              "      <th>2</th>\n",
              "      <td>19.69</td>\n",
              "      <td>21.25</td>\n",
              "      <td>130.00</td>\n",
              "      <td>1203.0</td>\n",
              "      <td>0.10960</td>\n",
              "      <td>0.15990</td>\n",
              "      <td>0.19740</td>\n",
              "      <td>0.12790</td>\n",
              "      <td>0.2069</td>\n",
              "      <td>0.05999</td>\n",
              "      <td>0.7456</td>\n",
              "      <td>0.7869</td>\n",
              "      <td>4.585</td>\n",
              "      <td>94.03</td>\n",
              "      <td>0.006150</td>\n",
              "      <td>0.04006</td>\n",
              "      <td>0.03832</td>\n",
              "      <td>0.02058</td>\n",
              "      <td>0.02250</td>\n",
              "      <td>0.004571</td>\n",
              "      <td>23.570</td>\n",
              "      <td>25.53</td>\n",
              "      <td>152.50</td>\n",
              "      <td>1709.0</td>\n",
              "      <td>0.14440</td>\n",
              "      <td>0.42450</td>\n",
              "      <td>0.4504</td>\n",
              "      <td>0.2430</td>\n",
              "      <td>0.3613</td>\n",
              "      <td>0.08758</td>\n",
              "    </tr>\n",
              "    <tr>\n",
              "      <th>3</th>\n",
              "      <td>11.42</td>\n",
              "      <td>20.38</td>\n",
              "      <td>77.58</td>\n",
              "      <td>386.1</td>\n",
              "      <td>0.14250</td>\n",
              "      <td>0.28390</td>\n",
              "      <td>0.24140</td>\n",
              "      <td>0.10520</td>\n",
              "      <td>0.2597</td>\n",
              "      <td>0.09744</td>\n",
              "      <td>0.4956</td>\n",
              "      <td>1.1560</td>\n",
              "      <td>3.445</td>\n",
              "      <td>27.23</td>\n",
              "      <td>0.009110</td>\n",
              "      <td>0.07458</td>\n",
              "      <td>0.05661</td>\n",
              "      <td>0.01867</td>\n",
              "      <td>0.05963</td>\n",
              "      <td>0.009208</td>\n",
              "      <td>14.910</td>\n",
              "      <td>26.50</td>\n",
              "      <td>98.87</td>\n",
              "      <td>567.7</td>\n",
              "      <td>0.20980</td>\n",
              "      <td>0.86630</td>\n",
              "      <td>0.6869</td>\n",
              "      <td>0.2575</td>\n",
              "      <td>0.6638</td>\n",
              "      <td>0.17300</td>\n",
              "    </tr>\n",
              "    <tr>\n",
              "      <th>4</th>\n",
              "      <td>20.29</td>\n",
              "      <td>14.34</td>\n",
              "      <td>135.10</td>\n",
              "      <td>1297.0</td>\n",
              "      <td>0.10030</td>\n",
              "      <td>0.13280</td>\n",
              "      <td>0.19800</td>\n",
              "      <td>0.10430</td>\n",
              "      <td>0.1809</td>\n",
              "      <td>0.05883</td>\n",
              "      <td>0.7572</td>\n",
              "      <td>0.7813</td>\n",
              "      <td>5.438</td>\n",
              "      <td>94.44</td>\n",
              "      <td>0.011490</td>\n",
              "      <td>0.02461</td>\n",
              "      <td>0.05688</td>\n",
              "      <td>0.01885</td>\n",
              "      <td>0.01756</td>\n",
              "      <td>0.005115</td>\n",
              "      <td>22.540</td>\n",
              "      <td>16.67</td>\n",
              "      <td>152.20</td>\n",
              "      <td>1575.0</td>\n",
              "      <td>0.13740</td>\n",
              "      <td>0.20500</td>\n",
              "      <td>0.4000</td>\n",
              "      <td>0.1625</td>\n",
              "      <td>0.2364</td>\n",
              "      <td>0.07678</td>\n",
              "    </tr>\n",
              "    <tr>\n",
              "      <th>...</th>\n",
              "      <td>...</td>\n",
              "      <td>...</td>\n",
              "      <td>...</td>\n",
              "      <td>...</td>\n",
              "      <td>...</td>\n",
              "      <td>...</td>\n",
              "      <td>...</td>\n",
              "      <td>...</td>\n",
              "      <td>...</td>\n",
              "      <td>...</td>\n",
              "      <td>...</td>\n",
              "      <td>...</td>\n",
              "      <td>...</td>\n",
              "      <td>...</td>\n",
              "      <td>...</td>\n",
              "      <td>...</td>\n",
              "      <td>...</td>\n",
              "      <td>...</td>\n",
              "      <td>...</td>\n",
              "      <td>...</td>\n",
              "      <td>...</td>\n",
              "      <td>...</td>\n",
              "      <td>...</td>\n",
              "      <td>...</td>\n",
              "      <td>...</td>\n",
              "      <td>...</td>\n",
              "      <td>...</td>\n",
              "      <td>...</td>\n",
              "      <td>...</td>\n",
              "      <td>...</td>\n",
              "    </tr>\n",
              "    <tr>\n",
              "      <th>564</th>\n",
              "      <td>21.56</td>\n",
              "      <td>22.39</td>\n",
              "      <td>142.00</td>\n",
              "      <td>1479.0</td>\n",
              "      <td>0.11100</td>\n",
              "      <td>0.11590</td>\n",
              "      <td>0.24390</td>\n",
              "      <td>0.13890</td>\n",
              "      <td>0.1726</td>\n",
              "      <td>0.05623</td>\n",
              "      <td>1.1760</td>\n",
              "      <td>1.2560</td>\n",
              "      <td>7.673</td>\n",
              "      <td>158.70</td>\n",
              "      <td>0.010300</td>\n",
              "      <td>0.02891</td>\n",
              "      <td>0.05198</td>\n",
              "      <td>0.02454</td>\n",
              "      <td>0.01114</td>\n",
              "      <td>0.004239</td>\n",
              "      <td>25.450</td>\n",
              "      <td>26.40</td>\n",
              "      <td>166.10</td>\n",
              "      <td>2027.0</td>\n",
              "      <td>0.14100</td>\n",
              "      <td>0.21130</td>\n",
              "      <td>0.4107</td>\n",
              "      <td>0.2216</td>\n",
              "      <td>0.2060</td>\n",
              "      <td>0.07115</td>\n",
              "    </tr>\n",
              "    <tr>\n",
              "      <th>565</th>\n",
              "      <td>20.13</td>\n",
              "      <td>28.25</td>\n",
              "      <td>131.20</td>\n",
              "      <td>1261.0</td>\n",
              "      <td>0.09780</td>\n",
              "      <td>0.10340</td>\n",
              "      <td>0.14400</td>\n",
              "      <td>0.09791</td>\n",
              "      <td>0.1752</td>\n",
              "      <td>0.05533</td>\n",
              "      <td>0.7655</td>\n",
              "      <td>2.4630</td>\n",
              "      <td>5.203</td>\n",
              "      <td>99.04</td>\n",
              "      <td>0.005769</td>\n",
              "      <td>0.02423</td>\n",
              "      <td>0.03950</td>\n",
              "      <td>0.01678</td>\n",
              "      <td>0.01898</td>\n",
              "      <td>0.002498</td>\n",
              "      <td>23.690</td>\n",
              "      <td>38.25</td>\n",
              "      <td>155.00</td>\n",
              "      <td>1731.0</td>\n",
              "      <td>0.11660</td>\n",
              "      <td>0.19220</td>\n",
              "      <td>0.3215</td>\n",
              "      <td>0.1628</td>\n",
              "      <td>0.2572</td>\n",
              "      <td>0.06637</td>\n",
              "    </tr>\n",
              "    <tr>\n",
              "      <th>566</th>\n",
              "      <td>16.60</td>\n",
              "      <td>28.08</td>\n",
              "      <td>108.30</td>\n",
              "      <td>858.1</td>\n",
              "      <td>0.08455</td>\n",
              "      <td>0.10230</td>\n",
              "      <td>0.09251</td>\n",
              "      <td>0.05302</td>\n",
              "      <td>0.1590</td>\n",
              "      <td>0.05648</td>\n",
              "      <td>0.4564</td>\n",
              "      <td>1.0750</td>\n",
              "      <td>3.425</td>\n",
              "      <td>48.55</td>\n",
              "      <td>0.005903</td>\n",
              "      <td>0.03731</td>\n",
              "      <td>0.04730</td>\n",
              "      <td>0.01557</td>\n",
              "      <td>0.01318</td>\n",
              "      <td>0.003892</td>\n",
              "      <td>18.980</td>\n",
              "      <td>34.12</td>\n",
              "      <td>126.70</td>\n",
              "      <td>1124.0</td>\n",
              "      <td>0.11390</td>\n",
              "      <td>0.30940</td>\n",
              "      <td>0.3403</td>\n",
              "      <td>0.1418</td>\n",
              "      <td>0.2218</td>\n",
              "      <td>0.07820</td>\n",
              "    </tr>\n",
              "    <tr>\n",
              "      <th>567</th>\n",
              "      <td>20.60</td>\n",
              "      <td>29.33</td>\n",
              "      <td>140.10</td>\n",
              "      <td>1265.0</td>\n",
              "      <td>0.11780</td>\n",
              "      <td>0.27700</td>\n",
              "      <td>0.35140</td>\n",
              "      <td>0.15200</td>\n",
              "      <td>0.2397</td>\n",
              "      <td>0.07016</td>\n",
              "      <td>0.7260</td>\n",
              "      <td>1.5950</td>\n",
              "      <td>5.772</td>\n",
              "      <td>86.22</td>\n",
              "      <td>0.006522</td>\n",
              "      <td>0.06158</td>\n",
              "      <td>0.07117</td>\n",
              "      <td>0.01664</td>\n",
              "      <td>0.02324</td>\n",
              "      <td>0.006185</td>\n",
              "      <td>25.740</td>\n",
              "      <td>39.42</td>\n",
              "      <td>184.60</td>\n",
              "      <td>1821.0</td>\n",
              "      <td>0.16500</td>\n",
              "      <td>0.86810</td>\n",
              "      <td>0.9387</td>\n",
              "      <td>0.2650</td>\n",
              "      <td>0.4087</td>\n",
              "      <td>0.12400</td>\n",
              "    </tr>\n",
              "    <tr>\n",
              "      <th>568</th>\n",
              "      <td>7.76</td>\n",
              "      <td>24.54</td>\n",
              "      <td>47.92</td>\n",
              "      <td>181.0</td>\n",
              "      <td>0.05263</td>\n",
              "      <td>0.04362</td>\n",
              "      <td>0.00000</td>\n",
              "      <td>0.00000</td>\n",
              "      <td>0.1587</td>\n",
              "      <td>0.05884</td>\n",
              "      <td>0.3857</td>\n",
              "      <td>1.4280</td>\n",
              "      <td>2.548</td>\n",
              "      <td>19.15</td>\n",
              "      <td>0.007189</td>\n",
              "      <td>0.00466</td>\n",
              "      <td>0.00000</td>\n",
              "      <td>0.00000</td>\n",
              "      <td>0.02676</td>\n",
              "      <td>0.002783</td>\n",
              "      <td>9.456</td>\n",
              "      <td>30.37</td>\n",
              "      <td>59.16</td>\n",
              "      <td>268.6</td>\n",
              "      <td>0.08996</td>\n",
              "      <td>0.06444</td>\n",
              "      <td>0.0000</td>\n",
              "      <td>0.0000</td>\n",
              "      <td>0.2871</td>\n",
              "      <td>0.07039</td>\n",
              "    </tr>\n",
              "  </tbody>\n",
              "</table>\n",
              "<p>569 rows × 30 columns</p>\n",
              "</div>"
            ],
            "text/plain": [
              "     mean radius  mean texture  ...  worst symmetry  worst fractal dimension\n",
              "0          17.99         10.38  ...          0.4601                  0.11890\n",
              "1          20.57         17.77  ...          0.2750                  0.08902\n",
              "2          19.69         21.25  ...          0.3613                  0.08758\n",
              "3          11.42         20.38  ...          0.6638                  0.17300\n",
              "4          20.29         14.34  ...          0.2364                  0.07678\n",
              "..           ...           ...  ...             ...                      ...\n",
              "564        21.56         22.39  ...          0.2060                  0.07115\n",
              "565        20.13         28.25  ...          0.2572                  0.06637\n",
              "566        16.60         28.08  ...          0.2218                  0.07820\n",
              "567        20.60         29.33  ...          0.4087                  0.12400\n",
              "568         7.76         24.54  ...          0.2871                  0.07039\n",
              "\n",
              "[569 rows x 30 columns]"
            ]
          },
          "metadata": {
            "tags": []
          },
          "execution_count": 21
        }
      ]
    },
    {
      "cell_type": "markdown",
      "metadata": {
        "id": "19SXmZ18bTZ_"
      },
      "source": [
        "## Statistical Approaches"
      ]
    },
    {
      "cell_type": "markdown",
      "metadata": {
        "id": "1MFvVNDKbTZ_"
      },
      "source": [
        "The most obvious candidate for removal is a feature whose value remains unchanged, i.e., it contains no information at all. If we build on this thought, it is reasonable to say that features with low variance are worse than those with high variance. So, one can consider cutting features with variance below a certain threshold."
      ]
    },
    {
      "cell_type": "code",
      "metadata": {
        "id": "JOut-dAAbTaA",
        "colab": {
          "base_uri": "https://localhost:8080/"
        },
        "outputId": "dea8992f-435d-4795-e31c-687cf4a2d180"
      },
      "source": [
        "X_generated, y_generated = make_classification(n_samples=1000, n_features=25, n_informative=3,\n",
        "                                                         n_redundant=2, n_repeated=0)\n",
        "X_generated.shape"
      ],
      "execution_count": 22,
      "outputs": [
        {
          "output_type": "execute_result",
          "data": {
            "text/plain": [
              "(1000, 25)"
            ]
          },
          "metadata": {
            "tags": []
          },
          "execution_count": 22
        }
      ]
    },
    {
      "cell_type": "code",
      "metadata": {
        "id": "nZtYdrxWbTaB",
        "colab": {
          "base_uri": "https://localhost:8080/"
        },
        "outputId": "bc3d84e9-277d-44c9-f65b-01a9ad565b1d"
      },
      "source": [
        "print(VarianceThreshold(0.9).fit_transform(X_generated).shape)\n",
        "print(VarianceThreshold(1).fit_transform(X_generated).shape)\n",
        "print(VarianceThreshold(1.1).fit_transform(X_generated).shape)"
      ],
      "execution_count": 23,
      "outputs": [
        {
          "output_type": "stream",
          "text": [
            "(1000, 24)\n",
            "(1000, 17)\n",
            "(1000, 5)\n"
          ],
          "name": "stdout"
        }
      ]
    },
    {
      "cell_type": "markdown",
      "metadata": {
        "id": "_B8qlLcLbTaC"
      },
      "source": [
        "Keep in mind that we are using absolute value as threshold, so in real world scenario it is necessary to bring all the features to same scale (perform scaling before thresholding).\n",
        "\n",
        "Personally, I won't recommend using `VarianceTreshold` unless you are completely sure that it's needed and won't make things worse: the low variance does not necessarily mean that feature is not informative. You can also try [other](https://scikit-learn.org/stable/modules/feature_selection.html#univariate-feature-selection) a little bit more advanced statistical approaches."
      ]
    },
    {
      "cell_type": "markdown",
      "metadata": {
        "id": "eNVhPZolbTaC"
      },
      "source": [
        "## Selection From Modeling\n"
      ]
    },
    {
      "cell_type": "markdown",
      "metadata": {
        "id": "j8M6VM7YbTaD"
      },
      "source": [
        "Basically, the idea is to use some model as an feature importance estimator: for example, we can use linear model with `Lasso` regularization (and feature weights from it) or some tree based models (which have natural ability to compute feature importance). Then, based on received importance/weights we can choose some threshold and take features, that have importance above this value."
      ]
    },
    {
      "cell_type": "code",
      "metadata": {
        "id": "cYoqZqIcbTaD",
        "colab": {
          "base_uri": "https://localhost:8080/"
        },
        "outputId": "379738f7-5003-432e-d726-b894c2ba9922"
      },
      "source": [
        "selection_model = RandomForestClassifier(random_state=42)\n",
        "selector = SelectFromModel(selection_model).fit(cancer_data, cancer_labels)\n",
        "cancer_data_pruned = selector.transform(cancer_data)\n",
        "print(cancer_data.columns[selector.get_support()])\n",
        "print(f'Original shape: {cancer_data.shape}')\n",
        "print(f'Shape after selection: {cancer_data_pruned.shape}')"
      ],
      "execution_count": 24,
      "outputs": [
        {
          "output_type": "stream",
          "text": [
            "Index(['mean radius', 'mean perimeter', 'mean area', 'mean concavity',\n",
            "       'mean concave points', 'worst radius', 'worst perimeter', 'worst area',\n",
            "       'worst concavity', 'worst concave points'],\n",
            "      dtype='object')\n",
            "Original shape: (569, 30)\n",
            "Shape after selection: (569, 10)\n"
          ],
          "name": "stdout"
        }
      ]
    },
    {
      "cell_type": "code",
      "metadata": {
        "id": "IoMsMWdebTaD",
        "colab": {
          "base_uri": "https://localhost:8080/"
        },
        "outputId": "e53b2131-47cb-46d9-cc68-a5dc81bf4f12"
      },
      "source": [
        "main_model = LogisticRegression(solver='liblinear', penalty='l1')\n",
        "pipe_baseline = make_pipeline(StandardScaler(), main_model)\n",
        "pipe_selection = make_pipeline(StandardScaler(), SelectFromModel(selection_model), main_model) # fix to select only once\n",
        "\n",
        "print('Result on original data: {:f}'.format(cross_val_score(pipe_baseline, cancer_data, cancer_labels, \n",
        "                      scoring='accuracy', cv=5).mean()))\n",
        "\n",
        "print('Result after selection {:f}'.format(cross_val_score(pipe_selection, cancer_data, cancer_labels, \n",
        "                      scoring='accuracy', cv=5).mean()))"
      ],
      "execution_count": 25,
      "outputs": [
        {
          "output_type": "stream",
          "text": [
            "Result on original data: 0.970160\n",
            "Result after selection 0.949045\n"
          ],
          "name": "stdout"
        }
      ]
    },
    {
      "cell_type": "markdown",
      "metadata": {
        "id": "zFd0vJ_YbTaE"
      },
      "source": [
        "We were able to reduce the number of features significantly, but, as you can see, stable performance is not guaranteed."
      ]
    },
    {
      "cell_type": "markdown",
      "metadata": {
        "id": "2DqjB5OjbTaE"
      },
      "source": [
        "It's also possible to use same model as an importance estimator and actual classifier (regressor).\n",
        "As a development of this approach we can consider recursive feature elimination: first, the model is trained on the initial set of features and the importance of each feature is obtained. Then, the least important features are pruned from current set of features. That procedure is recursively repeated on the pruned set until the desired number of features to select is eventually reached."
      ]
    },
    {
      "cell_type": "code",
      "metadata": {
        "id": "uHGznrA7bTaE",
        "colab": {
          "base_uri": "https://localhost:8080/"
        },
        "outputId": "587ab520-98c8-4e25-d02a-25c2d77a2dcf"
      },
      "source": [
        "min_features_to_select = 1 \n",
        "rfecv = RFECV(estimator=main_model, step=1, cv=KFold(3), \n",
        "              scoring='accuracy', min_features_to_select=min_features_to_select)\n",
        "rfecv.fit(cancer_data_scaled, cancer_labels)\n",
        "\n",
        "print(\"Optimal number of features : %d\" % rfecv.n_features_)\n"
      ],
      "execution_count": 26,
      "outputs": [
        {
          "output_type": "stream",
          "text": [
            "Optimal number of features : 28\n"
          ],
          "name": "stdout"
        }
      ]
    },
    {
      "cell_type": "code",
      "metadata": {
        "id": "XB9I9ddjbTaF",
        "colab": {
          "base_uri": "https://localhost:8080/",
          "height": 479
        },
        "outputId": "7f0a7d82-3bcb-4997-a107-c88dda2e6d77"
      },
      "source": [
        "plt.figure(figsize=(16,8))\n",
        "plt.plot(range(min_features_to_select,\n",
        "               len(rfecv.grid_scores_) + min_features_to_select),\n",
        "         rfecv.grid_scores_)\n",
        "plt.show()"
      ],
      "execution_count": 27,
      "outputs": [
        {
          "output_type": "display_data",
          "data": {
            "image/png": "[encoded data removed]",
            "text/plain": [
              "<Figure size 1152x576 with 1 Axes>"
            ]
          },
          "metadata": {
            "tags": [],
            "needs_background": "light"
          }
        }
      ]
    },
    {
      "cell_type": "markdown",
      "metadata": {
        "id": "qu7kAIX_bTaF"
      },
      "source": [
        "## Greedy (Sequential) Feature Selection "
      ]
    },
    {
      "cell_type": "markdown",
      "metadata": {
        "id": "18bqALOdbTaG"
      },
      "source": [
        "Finally, we get to the most reliable method --- trivial brute force: just test all possible subsets of features (train a model on a subset of features, store results, repeat for different subsets, and compare the quality of models to identify the best feature set). This approach is called [Exhaustive Feature Selection](http://rasbt.github.io/mlxtend/user_guide/feature_selection/ExhaustiveFeatureSelector).\n",
        "\n",
        "However, usually this method is too computationally complex to use for some real word dataset (it's even not available in scikit-learn). To reduce complexity one can the following *greedy* heuristic:  tart with zero feature and find the one feature that maximizes a cross-validated score when the model is trained on this single feature. Once that first feature is selected, we repeat the procedure by adding a new feature to the set of selected features. It is possible to iterate until we hit (preselected) maximum number of features or until the quality of the model ceases to increase significantly between iterations.\n",
        "\n",
        "This algorithm can work in the opposite direction: instead of starting with no feature and greedily adding features, we start with all the features and greedily remove features from the set."
      ]
    },
    {
      "cell_type": "code",
      "metadata": {
        "id": "eqCMHgltbTaG",
        "colab": {
          "base_uri": "https://localhost:8080/"
        },
        "outputId": "64b7b156-ca29-4b0d-8059-d5fe179dae81"
      },
      "source": [
        "selector = SequentialFeatureSelector(main_model, scoring='accuracy', n_jobs=-1).fit(cancer_data_scaled, cancer_labels)\n",
        "cancer_data_scaled_pruned = selector.transform(cancer_data_scaled)\n",
        "\n",
        "print(cancer_data.columns[selector.get_support()])\n",
        "print(f'Original shape: {cancer_data.shape}')\n",
        "print(f'Shape after selection: {cancer_data_pruned.shape}\\n')\n",
        "\n",
        "print('Result on original data: {:f}'.format(cross_val_score(main_model, cancer_data_scaled, \n",
        "                                                           cancer_labels, scoring='accuracy', cv=5).mean()))\n",
        "\n",
        "print('Result after selection {:f}'.format(cross_val_score(main_model, cancer_data_scaled_pruned, \n",
        "                                                        cancer_labels, scoring='accuracy', cv=5).mean()))"
      ],
      "execution_count": 28,
      "outputs": [
        {
          "output_type": "stream",
          "text": [
            "Index(['mean radius', 'mean texture', 'mean perimeter', 'mean area',\n",
            "       'mean smoothness', 'mean concavity', 'mean concave points',\n",
            "       'texture error', 'smoothness error', 'concavity error',\n",
            "       'symmetry error', 'worst radius', 'worst texture', 'worst perimeter',\n",
            "       'worst smoothness'],\n",
            "      dtype='object')\n",
            "Original shape: (569, 30)\n",
            "Shape after selection: (569, 10)\n",
            "\n",
            "Result on original data: 0.975423\n",
            "Result after selection 0.980686\n"
          ],
          "name": "stdout"
        }
      ]
    },
    {
      "cell_type": "markdown",
      "metadata": {
        "id": "opht7g-ubTaG"
      },
      "source": [
        "# Homework"
      ]
    },
    {
      "cell_type": "markdown",
      "metadata": {
        "id": "R9q5fmbVbTaH"
      },
      "source": [
        "## Exercise  1 - Scaling (3 points)"
      ]
    },
    {
      "cell_type": "markdown",
      "metadata": {
        "id": "B29uaqhbbTaH"
      },
      "source": [
        "Perform standardization for wine dataset (`wine_data`) using only basic python, numpy and pandas (without using `StandardScaler` and sklearn at all). Implementation of function (or class) that can get dataset as input and return standardized dataset as output is preferrable, but not necessary.\n",
        "\n",
        "Compare you results (output) with `StandardScaler`.\n",
        "\n",
        "**NOTE:**\n",
        "\n",
        "1) 1.5 points is for correct wine dataset standardization and another 1.5 points is for implementation of standardization function, that is working in more general case.\n",
        "\n",
        "2) \"General case\" doesn't mean, that you need to handle some/all really \"specific\" cases (datasets with missing/categorial variables, very large dataset, etc). Let's assume that it should work with numeric datasets of reasonable shape: showing the output for one or two randomly generated 10x10 dataset and comparing the results with `StandardScaler` should be enough (or you can be more creative).\n",
        "\n"
      ]
    },
    {
      "cell_type": "code",
      "metadata": {
        "colab": {
          "base_uri": "https://localhost:8080/"
        },
        "id": "OD4waC4qK-W4",
        "outputId": "63694c97-67c5-48c3-802f-2a2573e9d1f4"
      },
      "source": [
        "wine_arr = np.array(wine_data, dtype='float64')\n",
        "\n",
        "# реализуем функцию стандарного шкалирования\n",
        "def std(n):\n",
        "  out = []\n",
        "  for n in n.T:\n",
        "    out.append((n-n.mean())/n.std())\n",
        "  return np.array(out).T\n",
        "\n",
        "# стандартизируем винный датасет разными шкалировщиками\n",
        "wine_my_ss = std(wine_arr)\n",
        "\n",
        "wine_ss = StandardScaler().fit_transform(wine_data)\n",
        "\n",
        "# Проверяем идентичность кастомного шкалировщика и StandardScaler.\n",
        "np.allclose(wine_ss, wine_my_ss, rtol=1e-10)\n"
      ],
      "execution_count": 40,
      "outputs": [
        {
          "output_type": "execute_result",
          "data": {
            "text/plain": [
              "True"
            ]
          },
          "metadata": {
            "tags": []
          },
          "execution_count": 40
        }
      ]
    },
    {
      "cell_type": "code",
      "metadata": {
        "colab": {
          "base_uri": "https://localhost:8080/"
        },
        "id": "11nWrPc-Ybg4",
        "outputId": "169de0d7-3d8d-4aa3-bbfe-364cdbab2063"
      },
      "source": [
        "# генерируем тестовый набор данных 10х10\n",
        "np.random.seed(42)\n",
        "dset = np.random.randint(1000, size=(10,10))\n",
        "\n",
        "# сравниваем идентичность кастомного шкалировщика и StandardScaler на тестовом наборе\n",
        "dset_ss = StandardScaler().fit_transform(dset)\n",
        "\n",
        "dset_my_ss = std(dset)\n",
        "\n",
        "np.allclose(dset_ss, dset_my_ss, rtol=1e-10)\n"
      ],
      "execution_count": 42,
      "outputs": [
        {
          "output_type": "execute_result",
          "data": {
            "text/plain": [
              "True"
            ]
          },
          "metadata": {
            "tags": []
          },
          "execution_count": 42
        }
      ]
    },
    {
      "cell_type": "code",
      "metadata": {
        "colab": {
          "base_uri": "https://localhost:8080/"
        },
        "id": "GBxOD2Ahj75n",
        "outputId": "2980da4d-9741-4d6b-89a1-8e64715caaa0"
      },
      "source": [
        "# проверяем идентичность шкалировщиков на cancer_data\n",
        "\n",
        "cancer_data_my_ss = std(np.array(cancer_data))\n",
        "\n",
        "np.allclose(cancer_data_scaled, cancer_data_my_ss, rtol=1e-10)"
      ],
      "execution_count": 43,
      "outputs": [
        {
          "output_type": "execute_result",
          "data": {
            "text/plain": [
              "True"
            ]
          },
          "metadata": {
            "tags": []
          },
          "execution_count": 43
        }
      ]
    },
    {
      "cell_type": "markdown",
      "metadata": {
        "id": "w4x5tLytbTaH"
      },
      "source": [
        "## Exercise  2 - Visualization (4 points)"
      ]
    },
    {
      "cell_type": "markdown",
      "metadata": {
        "id": "cHSAkoqnbTaI"
      },
      "source": [
        "As noted earlier, standardization/normalization of data can be crucial for some distance-based ML methods.\n",
        "\n",
        "Let’s generate some toy example of unnormalized data and visualize the importance of this process once more:"
      ]
    },
    {
      "cell_type": "code",
      "metadata": {
        "id": "PUK_fisIbTaI"
      },
      "source": [
        "feature_0 = np.random.randn(1000) * 10   \n",
        "feature_1 = np.concatenate([np.random.randn(500), np.random.randn(500) + 5])\n",
        "data = np.column_stack([feature_0, feature_1])"
      ],
      "execution_count": 44,
      "outputs": []
    },
    {
      "cell_type": "code",
      "metadata": {
        "id": "QnRl91a7bTaI",
        "colab": {
          "base_uri": "https://localhost:8080/",
          "height": 277
        },
        "outputId": "ff29a82c-0aef-4295-df03-7f2a43ffd742"
      },
      "source": [
        "plot_scatter(data[:, 0], data[:, 1], auto_scaled=True, title='Data (different axes units!)')"
      ],
      "execution_count": 45,
      "outputs": [
        {
          "output_type": "display_data",
          "data": {
            "image/png": "[encoded data removed]",
            "text/plain": [
              "<Figure size 288x288 with 1 Axes>"
            ]
          },
          "metadata": {
            "tags": [],
            "needs_background": "light"
          }
        }
      ]
    },
    {
      "cell_type": "markdown",
      "metadata": {
        "id": "OjrYF_j5bTaJ"
      },
      "source": [
        "**NOTE:** on the plot above axes are scaled differently and we can clearly see two potential *classes/clusters*. In fact `matplotlib` performed `autoscaling` (which is basically can be considered as `MinMaxScaling` of original data) just for better visualization purposes.\n",
        "\n",
        "Let's turn this feature off and visualize the original data on the plot with equally scaled axes:"
      ]
    },
    {
      "cell_type": "code",
      "metadata": {
        "id": "jnEdLjWYbTaJ",
        "colab": {
          "base_uri": "https://localhost:8080/",
          "height": 277
        },
        "outputId": "31622961-1cd1-44d8-c491-a762e1a8fff9"
      },
      "source": [
        "plot_scatter(data[:, 0], data[:, 1], auto_scaled=False , title='Data (equal axes units!)')"
      ],
      "execution_count": 46,
      "outputs": [
        {
          "output_type": "display_data",
          "data": {
            "image/png": "[encoded data removed]",
            "text/plain": [
              "<Figure size 288x288 with 1 Axes>"
            ]
          },
          "metadata": {
            "tags": [],
            "needs_background": "light"
          }
        }
      ]
    },
    {
      "cell_type": "markdown",
      "metadata": {
        "id": "VsSUslTMbTaJ"
      },
      "source": [
        "This picture is clearly less interpretable, but much closer to \"how distance-based algorithm see the original data\": separability of data is hardly noticable only because the variation (std) of x-feature is much bigger in absolute numbers."
      ]
    },
    {
      "cell_type": "markdown",
      "metadata": {
        "id": "J1pwN8KObTaK"
      },
      "source": [
        "Perform `StandardScaling` and `MinMaxScaling` of original data; visualize results for each case (**use `plot_scatter` with `auto_scaled=False`**):"
      ]
    },
    {
      "cell_type": "markdown",
      "metadata": {
        "id": "4ZLj8RU6bTaL"
      },
      "source": [
        "### MinMaxScaling (1 point)"
      ]
    },
    {
      "cell_type": "code",
      "metadata": {
        "id": "eRiIi39xbTaQ",
        "colab": {
          "base_uri": "https://localhost:8080/",
          "height": 277
        },
        "outputId": "aba514af-9e9e-456e-8427-f58ab3d7283b"
      },
      "source": [
        "## MinMax Scaling\r\n",
        "\r\n",
        "data_MM_scaled = MinMaxScaler().fit_transform(data)\r\n",
        "plot_scatter(data_MM_scaled[:, 0], data_MM_scaled[:, 1], auto_scaled=False , title='MinMax Scaled data')\r\n"
      ],
      "execution_count": 35,
      "outputs": [
        {
          "output_type": "display_data",
          "data": {
            "image/png": "[encoded data removed]",
            "text/plain": [
              "<Figure size 288x288 with 1 Axes>"
            ]
          },
          "metadata": {
            "tags": [],
            "needs_background": "light"
          }
        }
      ]
    },
    {
      "cell_type": "markdown",
      "metadata": {
        "id": "vSIZx-SGbTaR"
      },
      "source": [
        "### StandardScaler (1 point)"
      ]
    },
    {
      "cell_type": "code",
      "metadata": {
        "id": "iSrGGdPUbTaR",
        "colab": {
          "base_uri": "https://localhost:8080/",
          "height": 277
        },
        "outputId": "eb0ae3d1-6072-438b-c30b-083fc4821a6a"
      },
      "source": [
        "## Standard Scaling\r\n",
        "data_MM_scaled = StandardScaler().fit_transform(data)\r\n",
        "plot_scatter(data_MM_scaled[:, 0], data_MM_scaled[:, 1], auto_scaled=False , title='Standard Scaled data')\r\n"
      ],
      "execution_count": 36,
      "outputs": [
        {
          "output_type": "display_data",
          "data": {
            "image/png": "[encoded data removed]",
            "text/plain": [
              "<Figure size 288x288 with 1 Axes>"
            ]
          },
          "metadata": {
            "tags": [],
            "needs_background": "light"
          }
        }
      ]
    },
    {
      "cell_type": "markdown",
      "metadata": {
        "id": "oy4_MH-1bTaS"
      },
      "source": [
        "### (Bonus) K-means (2 points)"
      ]
    },
    {
      "cell_type": "markdown",
      "metadata": {
        "id": "XIG6qfgmbTaS"
      },
      "source": [
        "Illustrate the impact of scaling on basic distance-based clustering algorithm [K-means](https://towardsdatascience.com/understanding-k-means-clustering-in-machine-learning-6a6e67336aa1) using `data` generated above.\n",
        "\n",
        "**NOTE:** basically, you don't need understanding K-means algorithm here, you just need to:\n",
        "\n",
        "1) run algorithm (with k=2, k - number of clusters/classes) on unscaled data    \n",
        "2) run algorithm (with k=2) on scaled data    \n",
        "3) plot results: highlight different clusters using different colors.\n",
        "\n",
        "You can use this [question](https://stats.stackexchange.com/questions/89809/is-it-important-to-scale-data-before-clustering/89813) as a hint, but I recommend you to plot results using `plot_scatter` with `equal_scaled=True`: it might help you to intuitively understand the reasons of such scaling impact.\n"
      ]
    },
    {
      "cell_type": "code",
      "metadata": {
        "id": "w23wvd_1bTaS",
        "colab": {
          "base_uri": "https://localhost:8080/",
          "height": 390
        },
        "outputId": "1a5d8701-3b8b-44c4-fe44-3b2d0db23a5a"
      },
      "source": [
        "Kmean = KMeans(n_clusters=2)\r\n",
        "scaled_data = MinMaxScaler().fit_transform(data)\r\n",
        "\r\n",
        "# non-scaled data\r\n",
        "clusters1 = Kmean.fit_predict(data)\r\n",
        "centers1 = Kmean.cluster_centers_\r\n",
        "\r\n",
        "# scaled data\r\n",
        "clusters2 = Kmean.fit_predict(scaled_data)\r\n",
        "centers2 = Kmean.cluster_centers_\r\n",
        "\r\n",
        "fig, axs = plt.subplots(1, 2, figsize=(17,6))\r\n",
        "\r\n",
        "axs[0].axis('equal')\r\n",
        "axs[0].scatter(data[:, 0], data[:, 1], c=clusters1, cmap='bwr')\r\n",
        "axs[0].set_title('non-normalised K-means', fontsize=18)\r\n",
        "axs[0].scatter(centers1[0, 0], centers1[0, 1], s=200, c='y', marker='s', label='centroid-1')\r\n",
        "axs[0].scatter(centers1[1, 0], centers1[1, 1], s=200, c='g', marker='s', label='centroid-2')\r\n",
        "axs[0].legend(fontsize=14)\r\n",
        "\r\n",
        "axs[1].axis('equal')\r\n",
        "axs[1].scatter(scaled_data[:, 0], scaled_data[:, 1], c=clusters2, cmap='bwr')\r\n",
        "axs[1].set_title('normalised K-means', fontsize=18)\r\n",
        "axs[1].scatter(centers2[0, 0], centers2[0, 1], s=200, c='y', marker='s', label='centroid-1')\r\n",
        "axs[1].scatter(centers2[1, 0], centers2[1, 1], s=200, c='g', marker='s', label='centroid-2')\r\n",
        "axs[1].legend(fontsize=14)\r\n",
        "\r\n",
        "plt.show()\r\n"
      ],
      "execution_count": 37,
      "outputs": [
        {
          "output_type": "display_data",
          "data": {
            "image/png": "[encoded data removed]",
            "text/plain": [
              "<Figure size 1224x432 with 2 Axes>"
            ]
          },
          "metadata": {
            "tags": [],
            "needs_background": "light"
          }
        }
      ]
    },
    {
      "cell_type": "markdown",
      "metadata": {
        "id": "p85Ngm99bTaT"
      },
      "source": [
        "## Exercise  3 - Preprocessing Pipeline (3 points)"
      ]
    },
    {
      "cell_type": "code",
      "metadata": {
        "id": "w1NA59pxbTaT"
      },
      "source": [
        "wine_train, wine_val, wine_labels_train, wine_labels_val = train_test_split(wine_data, wine_labels, \n",
        "                                                                            test_size=0.3, random_state=50)"
      ],
      "execution_count": 38,
      "outputs": []
    },
    {
      "cell_type": "markdown",
      "metadata": {
        "id": "F-k9VIElbTaT"
      },
      "source": [
        "Train model (for example, `LogisticRegression(solver='liblinear', penalty='l1')` on raw `wine_train` data; then train same model after data scaling; then add feature selection (and train model again on scaled data).\n",
        "\n",
        "Measure `accuracy` of all 3 approaches on `wine_val` dataset. Describe and explain results."
      ]
    },
    {
      "cell_type": "code",
      "metadata": {
        "colab": {
          "base_uri": "https://localhost:8080/"
        },
        "id": "NBAfQ2dXeOPn",
        "outputId": "cc2fcd1f-88cd-48d6-9641-ba37de4d248b"
      },
      "source": [
        "main_model = LogisticRegression(solver='liblinear', penalty='l1', max_iter=500, random_state=50)\n",
        "\n",
        "# raw data\n",
        "pipe_raw = make_pipeline(main_model)\n",
        "pipe_raw.fit(wine_train, wine_labels_train)\n",
        "raw_score = pipe_raw.score(wine_val, wine_labels_val)\n",
        "\n",
        "# scaled data\n",
        "pipe_scaled = make_pipeline(MinMaxScaler(), main_model)\n",
        "pipe_scaled.fit(wine_train, wine_labels_train)\n",
        "scaled_score = pipe_scaled.score(wine_val, wine_labels_val)\n",
        "\n",
        "# scaling + feature selection\n",
        "selection_model = RandomForestClassifier(random_state=42)\n",
        "pipe_select_scaled  = make_pipeline(MinMaxScaler(), SelectFromModel(selection_model), main_model)\n",
        "pipe_select_scaled.fit(wine_train, wine_labels_train)\n",
        "select_scaled_score = pipe_select_scaled.score(wine_val, wine_labels_val)\n",
        "\n",
        "print(f'Raw accuracy: {raw_score}\\nScaled accuracy: {scaled_score}\\nSelected scaled accuracy: {select_scaled_score}')\n"
      ],
      "execution_count": 47,
      "outputs": [
        {
          "output_type": "stream",
          "text": [
            "Raw accuracy: 0.9629629629629629\n",
            "Scaled accuracy: 0.9814814814814815\n",
            "Selected scaled accuracy: 0.9814814814814815\n"
          ],
          "name": "stdout"
        }
      ]
    },
    {
      "cell_type": "markdown",
      "metadata": {
        "id": "S4vHQ9UKG7HG"
      },
      "source": [
        "## Выводы:\n",
        "\n",
        "\n",
        "*   Scaling датасета увеличивает точность в данной задаче классификации. Это происходит из-за того, что признаки имеют значительный расброс масштаба (более 5000 раз).\n",
        "*   Использование дополнительного feature selection не всегда приводит к улучшению классификации. В данном случае используемый классификатор LogisticRegression имеет параметр штрафа L1 (Lasso), что наряду с регуляризацией приводит к автоматическому выбору наиболее значимых признаков и дальнейшее использование RandomForestClassifier не целесообразно.\n",
        "*   Модель имеет всего 3 значения целевого признака и при удачном разбиении легко показывает точность 1.0\n",
        "\n",
        "\n",
        "\n"
      ]
    },
    {
      "cell_type": "markdown",
      "metadata": {
        "id": "t_W3FmFebTaU"
      },
      "source": [
        "# Materials & References"
      ]
    },
    {
      "cell_type": "markdown",
      "metadata": {
        "id": "FxWfYnwybTaU"
      },
      "source": [
        "1. General article about feature engineering and selection (main reference):\n",
        "https://github.com/Yorko/mlcourse.ai/blob/master/jupyter_english/topic06_features_regression/topic6_feature_engineering_feature_selection.ipynb\n",
        "\n",
        "\n",
        "2. Feature engineering/preprocessing, using scikit-learn API (great code examples, but really brief explanation):    \n",
        "https://scikit-learn.org/stable/modules/preprocessing\n",
        "\n",
        "\n",
        "3. Feature scaling/normalization:     \n",
        "https://towardsdatascience.com/all-about-feature-scaling-bcc0ad75cb35\n",
        "\n",
        "\n",
        "4. Log Transform/power transform:    \n",
        "https://medium.com/@kyawsawhtoon/log-transformation-purpose-and-interpretation-9444b4b049c9\n",
        "\n",
        "\n",
        "6. Missing values preprocessing using scikit-learn API (great code examples, great explanation):    \n",
        "https://scikit-learn.org/stable/modules/impute.html\n",
        "\n",
        "\n",
        "7. Feature selection scikit-learn API (great code examples, great explanation):   \n",
        "https://scikit-learn.org/stable/modules/feature_selection.html\n",
        "\n",
        "\n",
        "8. Melbourne housing dataset source:    \n",
        "https://www.kaggle.com/anthonypino/melbourne-housing-market"
      ]
    }
  ]
}