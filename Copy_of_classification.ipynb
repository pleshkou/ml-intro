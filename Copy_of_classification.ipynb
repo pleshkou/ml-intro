{
  "nbformat": 4,
  "nbformat_minor": 0,
  "metadata": {
    "kernelspec": {
      "display_name": "Python 3",
      "language": "python",
      "name": "python3"
    },
    "language_info": {
      "codemirror_mode": {
        "name": "ipython",
        "version": 3
      },
      "file_extension": ".py",
      "mimetype": "text/x-python",
      "name": "python",
      "nbconvert_exporter": "python",
      "pygments_lexer": "ipython3",
      "version": "3.8.5"
    },
    "colab": {
      "name": "Copy of classification.ipynb",
      "provenance": [],
      "collapsed_sections": []
    }
  },
  "cells": [
    {
      "cell_type": "markdown",
      "metadata": {
        "id": "s2K2GlnGyTHZ"
      },
      "source": [
        "# Classification. Linear models and KNN"
      ]
    },
    {
      "cell_type": "code",
      "metadata": {
        "id": "thYxbPAMyTHl"
      },
      "source": [
        "import os\n",
        "import numpy as np\n",
        "import pandas as pd\n",
        "import seaborn as sns\n",
        "import matplotlib.pyplot as plt\n",
        "from pandas_profiling import ProfileReport\n",
        "from tabulate import tabulate"
      ],
      "execution_count": 1,
      "outputs": []
    },
    {
      "cell_type": "code",
      "metadata": {
        "id": "Ipjjgcb9yTHn"
      },
      "source": [
        "from sklearn.pipeline import Pipeline\n",
        "from sklearn.compose import ColumnTransformer\n",
        "from sklearn.model_selection import train_test_split, cross_validate, GridSearchCV, cross_val_score\n",
        "from sklearn.metrics import plot_confusion_matrix, accuracy_score\n",
        "from sklearn.linear_model import SGDClassifier, LinearRegression, Ridge\n",
        "from sklearn.preprocessing import StandardScaler, MinMaxScaler, OneHotEncoder\n",
        "from sklearn.neighbors import KNeighborsClassifier\n",
        "from sklearn.linear_model import LogisticRegression\n",
        "from sklearn.linear_model import LogisticRegressionCV"
      ],
      "execution_count": 2,
      "outputs": []
    },
    {
      "cell_type": "code",
      "metadata": {
        "id": "oL_0bnbKfEKy"
      },
      "source": [
        "# !pip install -U scikit-learn\n",
        "# !pip install pandas-profiling==2.7.1"
      ],
      "execution_count": 3,
      "outputs": []
    },
    {
      "cell_type": "markdown",
      "metadata": {
        "id": "w4NS7dzeyTHo"
      },
      "source": [
        "## Part 1: Titanic survival prediction"
      ]
    },
    {
      "cell_type": "markdown",
      "metadata": {
        "id": "7QonkMEQyTHo"
      },
      "source": [
        "### Dataset\n",
        "\n",
        "Read the description here: https://www.kaggle.com/c/titanic/data. Download the dataset and place it in the *data/titanic/* folder in your working directory.\n",
        "You will use train.csv for model training and validation. The test set is used for model testing: once the model is trained, you can predict whether a passenger survived or not for each passenger in the test set, and submit the predictions: https://www.kaggle.com/c/titanic/overview/evaluation.  \n"
      ]
    },
    {
      "cell_type": "code",
      "metadata": {
        "id": "EQY9qEKvyTHp"
      },
      "source": [
        "PATH = \"./data/\""
      ],
      "execution_count": 4,
      "outputs": []
    },
    {
      "cell_type": "code",
      "metadata": {
        "id": "PnnRHAEJyTHq"
      },
      "source": [
        "data = pd.read_csv(os.path.join(PATH, 'titanic', 'train.csv')).set_index('PassengerId')\r\n",
        "data_test = pd.read_csv(os.path.join(PATH, 'titanic', 'test.csv')).set_index('PassengerId')"
      ],
      "execution_count": 5,
      "outputs": []
    },
    {
      "cell_type": "code",
      "metadata": {
        "scrolled": true,
        "id": "tfjVWTwXyTHq"
      },
      "source": [
        "data\r\n",
        "data_tr = data.copy()"
      ],
      "execution_count": 6,
      "outputs": []
    },
    {
      "cell_type": "code",
      "metadata": {
        "id": "1Xy2Eqtwl8tK"
      },
      "source": [
        "# Профилируем датасет для получения общей картины\n",
        "# ProfileReport(data)"
      ],
      "execution_count": 7,
      "outputs": []
    },
    {
      "cell_type": "markdown",
      "metadata": {
        "id": "g0GkBNFYyTHs"
      },
      "source": [
        "### EDA"
      ]
    },
    {
      "cell_type": "markdown",
      "metadata": {
        "id": "L-ZlecgByTHt"
      },
      "source": [
        "**(0.5 points)** How many females and males are there in the dataset? What about the survived passengers? Is there any relationship between the gender and the survival?"
      ]
    },
    {
      "cell_type": "code",
      "metadata": {
        "id": "gycCTlQuyTHt",
        "colab": {
          "base_uri": "https://localhost:8080/"
        },
        "outputId": "ae9049eb-fb13-4710-830e-1d136853dbee"
      },
      "source": [
        "# Cоотношение мужчин и женщин в датасете\n",
        "print(data_tr['Sex'].value_counts(),'\\n')\n",
        "print(data_tr['Sex'].value_counts() / data['Sex'].value_counts().sum())"
      ],
      "execution_count": 8,
      "outputs": [
        {
          "output_type": "stream",
          "text": [
            "male      577\n",
            "female    314\n",
            "Name: Sex, dtype: int64 \n",
            "\n",
            "male      0.647587\n",
            "female    0.352413\n",
            "Name: Sex, dtype: float64\n"
          ],
          "name": "stdout"
        }
      ]
    },
    {
      "cell_type": "code",
      "metadata": {
        "colab": {
          "base_uri": "https://localhost:8080/"
        },
        "id": "iYhPFnDGLgWf",
        "outputId": "d44e077c-56ef-4d45-e3b4-b8f3c83729f4"
      },
      "source": [
        "# Количество выживших пассажиров\n",
        "data_tr['Survived'].sum()"
      ],
      "execution_count": 9,
      "outputs": [
        {
          "output_type": "execute_result",
          "data": {
            "text/plain": [
              "342"
            ]
          },
          "metadata": {
            "tags": []
          },
          "execution_count": 9
        }
      ]
    },
    {
      "cell_type": "code",
      "metadata": {
        "colab": {
          "base_uri": "https://localhost:8080/"
        },
        "id": "nVdJP7MSMDsr",
        "outputId": "ff037f15-2d01-4cf5-a8c7-cec888b20729"
      },
      "source": [
        "# Cоотношение мужчин и женщин среди выживших\n",
        "print(data_tr[data_tr['Survived'] == 1]['Sex'].value_counts(), '\\n')\n",
        "print(data_tr[data_tr['Survived'] == 1]['Sex'].value_counts() / data_tr[data_tr['Survived'] == 1]['Sex'].value_counts().sum())"
      ],
      "execution_count": 10,
      "outputs": [
        {
          "output_type": "stream",
          "text": [
            "female    233\n",
            "male      109\n",
            "Name: Sex, dtype: int64 \n",
            "\n",
            "female    0.681287\n",
            "male      0.318713\n",
            "Name: Sex, dtype: float64\n"
          ],
          "name": "stdout"
        }
      ]
    },
    {
      "cell_type": "code",
      "metadata": {
        "colab": {
          "base_uri": "https://localhost:8080/",
          "height": 274
        },
        "id": "8tL1bx1FYwhY",
        "outputId": "a928a30c-9c85-410d-860d-1064706ea687"
      },
      "source": [
        "# Переводим признак Sex в категорийный и строим тепловую карту, используя корреляцию Пирсона\n",
        "\n",
        "data_tr['Sex_cat'], _ = data_tr['Sex'].factorize()\n",
        "sns.heatmap(data_tr.corr().abs());"
      ],
      "execution_count": 11,
      "outputs": [
        {
          "output_type": "display_data",
          "data": {
            "image/png": "[encoded data removed]",
            "text/plain": [
              "<Figure size 432x288 with 2 Axes>"
            ]
          },
          "metadata": {
            "tags": [],
            "needs_background": "light"
          }
        }
      ]
    },
    {
      "cell_type": "markdown",
      "metadata": {
        "id": "2qjs2ePpyTHu"
      },
      "source": [
        "# Вывод: \n",
        "### Из тепловой карты видно, что существует довольно высокая корреляция между признаками Sex_cat и Survived."
      ]
    },
    {
      "cell_type": "markdown",
      "metadata": {
        "id": "pNktxjXtyTHu"
      },
      "source": [
        "**(0.5 points)** Plot age distribution of the passengers. What is the average and the median age of survived and deceased passengers? Do age distributions differ for survived and deceased passengers? Why?"
      ]
    },
    {
      "cell_type": "code",
      "metadata": {
        "id": "aeuhFwG7yTHu",
        "colab": {
          "base_uri": "https://localhost:8080/",
          "height": 269
        },
        "outputId": "8a620903-805c-403d-a587-df8610225504"
      },
      "source": [
        "# Распределение пассажиров по возрастам\n",
        "plt.hist(data_tr['Age']);"
      ],
      "execution_count": 12,
      "outputs": [
        {
          "output_type": "display_data",
          "data": {
            "image/png": "[encoded data removed]",
            "text/plain": [
              "<Figure size 432x288 with 1 Axes>"
            ]
          },
          "metadata": {
            "tags": [],
            "needs_background": "light"
          }
        }
      ]
    },
    {
      "cell_type": "code",
      "metadata": {
        "colab": {
          "base_uri": "https://localhost:8080/"
        },
        "id": "bLnuVNcsqWzq",
        "outputId": "540a7aeb-ca50-45af-f22e-23ee52b277cf"
      },
      "source": [
        "surv_age_mean = data_tr[data_tr['Survived'] == 1]['Age'].mean()\n",
        "surv_age_median = data_tr[data_tr['Survived'] == 1]['Age'].median()\n",
        "dec_age_mean = data_tr[data_tr['Survived'] == 0]['Age'].mean()\n",
        "dec_age_median = data_tr[data_tr['Survived'] == 0]['Age'].median()\n",
        "print(tabulate([('Average', surv_age_mean, dec_age_mean), ('Median', surv_age_median, dec_age_median)],\n",
        "               headers=('Age', 'Survived', 'Deceased')))\n"
      ],
      "execution_count": 13,
      "outputs": [
        {
          "output_type": "stream",
          "text": [
            "Age        Survived    Deceased\n",
            "-------  ----------  ----------\n",
            "Average     28.3437     30.6262\n",
            "Median      28          28\n"
          ],
          "name": "stdout"
        }
      ]
    },
    {
      "cell_type": "markdown",
      "metadata": {
        "id": "2AP0F3J1yTHv"
      },
      "source": [
        "## Вывод:\n",
        "### Средний возраст выживших меньше, чем умерших, что объясняется более высокой активностью и выносливостью молодых пассажиров."
      ]
    },
    {
      "cell_type": "markdown",
      "metadata": {
        "id": "NWNkQA3SyTHv"
      },
      "source": [
        "**(1 point)** Explore \"passenger class\" and \"embarked\" features. What class was \"the safest\"? Is there any relationship between the embarkation port and the survival? Provide the corresponding visualizations."
      ]
    },
    {
      "cell_type": "code",
      "metadata": {
        "colab": {
          "base_uri": "https://localhost:8080/"
        },
        "id": "Zx-xhXPV9yWV",
        "outputId": "fbb1858b-1f61-4f17-cddc-2c28bca69917"
      },
      "source": [
        "print('Процент выживших в разрезе класса:\\n')\n",
        "out = []\n",
        "for cls in range(1, 4):\n",
        "  out.append(data_tr[data_tr['Pclass'] == cls]['Survived'].mean())\n",
        "print(out)"
      ],
      "execution_count": 14,
      "outputs": [
        {
          "output_type": "stream",
          "text": [
            "Процент выживших в разрезе класса:\n",
            "\n",
            "[0.6296296296296297, 0.47282608695652173, 0.24236252545824846]\n"
          ],
          "name": "stdout"
        }
      ]
    },
    {
      "cell_type": "code",
      "metadata": {
        "colab": {
          "base_uri": "https://localhost:8080/",
          "height": 269
        },
        "id": "qyWdHUl8JUE_",
        "outputId": "6e8ea471-ca31-422f-9634-da04034861fe"
      },
      "source": [
        "plt.bar(['1 class', '2 class', '3 class'], out);"
      ],
      "execution_count": 15,
      "outputs": [
        {
          "output_type": "display_data",
          "data": {
            "image/png": "[encoded data removed]",
            "text/plain": [
              "<Figure size 432x288 with 1 Axes>"
            ]
          },
          "metadata": {
            "tags": [],
            "needs_background": "light"
          }
        }
      ]
    },
    {
      "cell_type": "markdown",
      "metadata": {
        "id": "oUTsSTDFHv3P"
      },
      "source": [
        "## Вывод:\n",
        "### Наиболее безопасным, как и ожидалось, оказался первый класс, пассажиры которого в первую очередь обеспечивались средствами спасения."
      ]
    },
    {
      "cell_type": "code",
      "metadata": {
        "colab": {
          "base_uri": "https://localhost:8080/",
          "height": 388
        },
        "id": "Lwv34pY-EzXW",
        "outputId": "969da918-43af-43fa-e4c9-33027899abd3"
      },
      "source": [
        "#Переводим признак Embarked в категорийный и строим тепловую карту, используя корреляцию Пирсона\n",
        "data_tr['Embarked_cat'], _ = data_tr['Embarked'].factorize()\n",
        "print(data_tr[['Embarked_cat', 'Survived']].corr())\n",
        "sns.heatmap(data_tr.corr().abs());"
      ],
      "execution_count": 16,
      "outputs": [
        {
          "output_type": "stream",
          "text": [
            "              Embarked_cat  Survived\n",
            "Embarked_cat      1.000000  0.101849\n",
            "Survived          0.101849  1.000000\n"
          ],
          "name": "stdout"
        },
        {
          "output_type": "display_data",
          "data": {
            "image/png": "[encoded data removed]",
            "text/plain": [
              "<Figure size 432x288 with 2 Axes>"
            ]
          },
          "metadata": {
            "tags": [],
            "needs_background": "light"
          }
        }
      ]
    },
    {
      "cell_type": "markdown",
      "metadata": {
        "id": "u6kiGjUGyTHw"
      },
      "source": [
        "## Вывод:\n",
        "### Из тепловой карты видно, что порт посадки очень слабо влияет на выживаемость пассажиров."
      ]
    },
    {
      "cell_type": "markdown",
      "metadata": {
        "id": "0iweAp07yTHw"
      },
      "source": [
        "### Modelling"
      ]
    },
    {
      "cell_type": "markdown",
      "metadata": {
        "id": "bBwTaStbyTHw"
      },
      "source": [
        "**(0.5 points)** Find the percentage of missing values for each feature. "
      ]
    },
    {
      "cell_type": "code",
      "metadata": {
        "id": "_4_JFXxyyTHx",
        "colab": {
          "base_uri": "https://localhost:8080/"
        },
        "outputId": "a27c0bf3-0958-4749-a4e8-a82a2800c1c2"
      },
      "source": [
        "data_tr.isna().mean()"
      ],
      "execution_count": 17,
      "outputs": [
        {
          "output_type": "execute_result",
          "data": {
            "text/plain": [
              "Survived        0.000000\n",
              "Pclass          0.000000\n",
              "Name            0.000000\n",
              "Sex             0.000000\n",
              "Age             0.198653\n",
              "SibSp           0.000000\n",
              "Parch           0.000000\n",
              "Ticket          0.000000\n",
              "Fare            0.000000\n",
              "Cabin           0.771044\n",
              "Embarked        0.002245\n",
              "Sex_cat         0.000000\n",
              "Embarked_cat    0.000000\n",
              "dtype: float64"
            ]
          },
          "metadata": {
            "tags": []
          },
          "execution_count": 17
        }
      ]
    },
    {
      "cell_type": "markdown",
      "metadata": {
        "id": "6v4ZM3m7yTHx"
      },
      "source": [
        "Think about the ways to handle these missing values for modelling and write your answer below. Which methods would you suggest? What are their advantages and disadvantages?"
      ]
    },
    {
      "cell_type": "markdown",
      "metadata": {
        "id": "o_LW_34LXBIF"
      },
      "source": [
        "## Отсутствующие значения в датасете можно заменить следующим образом:\n",
        "\n",
        "\n",
        "*   Age - на медиану возраста.\n",
        "*   Cabin - считаю, что данный признак можно вообще удалить из датасета как несущественный.\n",
        "*   Embarked - на постоянное значение, например, 'S'\n",
        "\n",
        "\n",
        "---\n",
        "\n",
        "\n",
        "\n",
        "\n"
      ]
    },
    {
      "cell_type": "markdown",
      "metadata": {
        "id": "WQ19nSGeyTHy"
      },
      "source": [
        "**(1.5 points)** Prepare the features and train two models (KNN and Logistic Regression) to predict the survival. Compare the results. Use accuracy as a metric. Don't forget about cross-validation!"
      ]
    },
    {
      "cell_type": "code",
      "metadata": {
        "id": "8OR40_SzEHlQ"
      },
      "source": [
        "def proc(df):\n",
        "  df.drop(['Name', 'Ticket', 'Cabin'], axis=1, inplace=True)\n",
        "  df['Age'].fillna(df['Age'].median(), inplace=True)\n",
        "  df['Embarked'].fillna('S', inplace=True)\n",
        "  df['Embarked'], _ = df['Embarked'].factorize()\n",
        "  df['Fare'].fillna(df['Fare'].mean(), inplace=True)\n",
        "  df['Sex'], _ = df['Sex'].factorize()\n",
        "  df.dropna(inplace=True)\n",
        "  return df\n",
        "\n",
        "X = proc(data.copy())\n",
        "y = X.pop('Survived')\n",
        "X = StandardScaler().fit_transform(X)\n",
        "X_train, X_test, y_train, y_test = train_test_split(X, y, test_size = 0.3, random_state = 42)"
      ],
      "execution_count": 18,
      "outputs": []
    },
    {
      "cell_type": "code",
      "metadata": {
        "colab": {
          "base_uri": "https://localhost:8080/"
        },
        "id": "1s3OplBxESb2",
        "outputId": "4b078235-8beb-41fd-c73a-7a104f3ee604"
      },
      "source": [
        "# KNN\n",
        "knn = KNeighborsClassifier(n_neighbors=5)\n",
        "knn.fit(X_train, y_train)\n",
        "knn.score(X_test, y_test)"
      ],
      "execution_count": 19,
      "outputs": [
        {
          "output_type": "execute_result",
          "data": {
            "text/plain": [
              "0.8059701492537313"
            ]
          },
          "metadata": {
            "tags": []
          },
          "execution_count": 19
        }
      ]
    },
    {
      "cell_type": "code",
      "metadata": {
        "colab": {
          "base_uri": "https://localhost:8080/"
        },
        "id": "6zhU2rzOEabc",
        "outputId": "2d880ee0-edfb-49de-9554-4d5a7a731964"
      },
      "source": [
        "# LogisticRegression + CV\n",
        "lr = LogisticRegressionCV(random_state=42, max_iter=500)\n",
        "lr.fit(X_train, y_train)\n",
        "lr.score(X_test, y_test)"
      ],
      "execution_count": 20,
      "outputs": [
        {
          "output_type": "execute_result",
          "data": {
            "text/plain": [
              "0.8059701492537313"
            ]
          },
          "metadata": {
            "tags": []
          },
          "execution_count": 20
        }
      ]
    },
    {
      "cell_type": "markdown",
      "metadata": {
        "id": "sesxf4FlyTHy"
      },
      "source": [
        "**(0.5 + X points)** Try more feature engineering and hyperparameter tuning to improve the results. You may use either KNN or Logistic Regression (or both)."
      ]
    },
    {
      "cell_type": "code",
      "metadata": {
        "id": "FA26HOQSFa60"
      },
      "source": [
        "\n",
        "# Соединяем train и test датасеты для увеличения выборки\n",
        "td = pd.concat([data.copy(), data_test.copy()], ignore_index=False, sort=False)"
      ],
      "execution_count": 21,
      "outputs": []
    },
    {
      "cell_type": "code",
      "metadata": {
        "id": "H69kUkwKFOOt"
      },
      "source": [
        "# Добавляем признак количества родственников\n",
        "td['Family'] = td['Parch'] + td['SibSp']\n",
        "\n",
        "# Заполняем пропущенный тариф \n",
        "td['Fare'].fillna(td['Fare'].median(), inplace=True)\n",
        "\n",
        "# Создаем новый признак из имени  и кодируем его\n",
        "td['Salutation'] = td['Name'].apply(lambda name: name.split(',')[1].split('.')[0].strip())\n",
        "td = pd.concat([td, pd.get_dummies(td['Salutation'], prefix=\"Salut\")], axis=1)\n",
        "\n",
        "# Заполняем пропущенные значения возраста медианой по группе Пол+Класс\n",
        "grp = td.groupby(['Sex', 'Pclass'])\n",
        "td['Age'] = grp['Age'].apply(lambda x: x.fillna(x.median()))\n",
        "td['Age'].fillna(td['Age'].median(), inplace=True)\n",
        "\n",
        "# Кодируем признак Sex\n",
        "td['Sex'], _ = td['Sex'].factorize()\n",
        "\n",
        "# Удаляем лишние признаки\n",
        "td.drop(['Name', 'SibSp', 'Parch', 'Ticket', 'Cabin', 'Embarked', 'Salutation'], axis=1, inplace=True )"
      ],
      "execution_count": 22,
      "outputs": []
    },
    {
      "cell_type": "code",
      "metadata": {
        "id": "dTGTcS65FGsC"
      },
      "source": [
        "# Разбиваем датасет на 2 части (train и test) как в исходной выборке\n",
        "data_p, data_train_p = td.iloc[:891], td.iloc[891:].drop('Survived', axis=1)"
      ],
      "execution_count": 23,
      "outputs": []
    },
    {
      "cell_type": "code",
      "metadata": {
        "id": "BSMQayX9FEVe"
      },
      "source": [
        "X = data_p.copy()\n",
        "y = X.pop('Survived')\n",
        "X = StandardScaler().fit_transform(X)\n",
        "X_train, X_test, y_train, y_test = train_test_split(X, y, test_size = 0.3, random_state = 50)"
      ],
      "execution_count": 24,
      "outputs": []
    },
    {
      "cell_type": "code",
      "metadata": {
        "colab": {
          "base_uri": "https://localhost:8080/"
        },
        "id": "SUvyrzYFFBgk",
        "outputId": "e7449701-3902-49d9-87f4-f33be8f3877b"
      },
      "source": [
        "# KNN\n",
        "knn = KNeighborsClassifier(n_neighbors=5)\n",
        "knn.fit(X_train, y_train)\n",
        "knn.score(X_test, y_test)"
      ],
      "execution_count": 25,
      "outputs": [
        {
          "output_type": "execute_result",
          "data": {
            "text/plain": [
              "0.8246268656716418"
            ]
          },
          "metadata": {
            "tags": []
          },
          "execution_count": 25
        }
      ]
    },
    {
      "cell_type": "code",
      "metadata": {
        "colab": {
          "base_uri": "https://localhost:8080/"
        },
        "id": "sa-mFS9qE-dv",
        "outputId": "6b05aa66-9275-4cb9-d935-71092d9017c1"
      },
      "source": [
        "# LogisticRegression + CV\n",
        "lr = LogisticRegressionCV(random_state=42, max_iter=500)\n",
        "lr.fit(X_train, y_train)\n",
        "lr.score(X_test, y_test)"
      ],
      "execution_count": 26,
      "outputs": [
        {
          "output_type": "execute_result",
          "data": {
            "text/plain": [
              "0.8283582089552238"
            ]
          },
          "metadata": {
            "tags": []
          },
          "execution_count": 26
        }
      ]
    },
    {
      "cell_type": "code",
      "metadata": {
        "id": "vCNhxmzoXFj6",
        "colab": {
          "base_uri": "https://localhost:8080/"
        },
        "outputId": "d838168a-9172-4dac-d519-b683ce18a784"
      },
      "source": [
        "# Grid Search + CV\n",
        "np.random.seed(50)\n",
        "logistic = LogisticRegression(solver='liblinear', max_iter=500)\n",
        "penalty = ['l1', 'l2']\n",
        "C = np.logspace(0, 4, 100)\n",
        "hyperparameters = dict(C=C, penalty=penalty)\n",
        "gridsearch = GridSearchCV(logistic, hyperparameters, cv=5, verbose=1)\n",
        "best_model = gridsearch.fit(X_test, y_test)\n",
        "print(best_model.best_estimator_.get_params()['penalty'])\n",
        "print(best_model.best_estimator_.get_params()['C'])"
      ],
      "execution_count": 27,
      "outputs": [
        {
          "output_type": "stream",
          "text": [
            "Fitting 5 folds for each of 200 candidates, totalling 1000 fits\n",
            "l1\n",
            "1555.6761439304723\n"
          ],
          "name": "stdout"
        }
      ]
    },
    {
      "cell_type": "code",
      "metadata": {
        "id": "lzSQcQX1aIiF",
        "colab": {
          "base_uri": "https://localhost:8080/"
        },
        "outputId": "6ce890c8-380c-410b-c312-47e4934fc114"
      },
      "source": [
        "best_model.score(X_test, y_test)"
      ],
      "execution_count": 28,
      "outputs": [
        {
          "output_type": "execute_result",
          "data": {
            "text/plain": [
              "0.8544776119402985"
            ]
          },
          "metadata": {
            "tags": []
          },
          "execution_count": 28
        }
      ]
    },
    {
      "cell_type": "code",
      "metadata": {
        "colab": {
          "base_uri": "https://localhost:8080/"
        },
        "id": "YYteP3xsJ5hf",
        "outputId": "6deb5411-5ce8-4736-c111-fbc2ddbf421f"
      },
      "source": [
        "cross_val_score(best_model, X_test, y_test, cv=3, n_jobs=-1)"
      ],
      "execution_count": 29,
      "outputs": [
        {
          "output_type": "execute_result",
          "data": {
            "text/plain": [
              "array([0.83333333, 0.84269663, 0.84269663])"
            ]
          },
          "metadata": {
            "tags": []
          },
          "execution_count": 29
        }
      ]
    },
    {
      "cell_type": "code",
      "metadata": {
        "id": "1czQi2MiyTHz"
      },
      "source": [
        "X_ts = data_train_p\r\n",
        "y_ts = best_model.predict(X_ts).astype(int)\r\n",
        "\r\n",
        "pd.DataFrame([np.arange(892, 1310), y_ts]).transpose().to_csv('submit.csv', index=False, header=['PassengerId','Survived'])\r\n"
      ],
      "execution_count": 30,
      "outputs": []
    },
    {
      "cell_type": "markdown",
      "metadata": {
        "id": "9NnmlsgLyTHz"
      },
      "source": [
        "Load the test set and make the predictions. Submit them to kaggle and see the results :)\n",
        "Select the best model, load the test set and make the predictions. Submit them to kaggle.\n",
        "\n",
        "**Note**. X points will depend on your kaggle leaderboard score.\n",
        "$$ f(score) = 0.5, \\ \\ 0.79 \\leq score < 0.81,$$\n",
        "$$ f(score) = 1.0, \\ \\ 0.81 \\leq score < 0.83,$$ \n",
        "$$ f(score) = 2.5, \\ \\ 0.83 \\leq score $$ \n",
        "Your code should generate the output submitted to kaggle. Fix random seeds to make the results reproducible."
      ]
    },
    {
      "cell_type": "code",
      "metadata": {
        "id": "kVsWbCUfyTH0"
      },
      "source": [
        "## your code"
      ],
      "execution_count": null,
      "outputs": []
    },
    {
      "cell_type": "markdown",
      "metadata": {
        "id": "nr-H7ncCyTH0"
      },
      "source": [
        "## Part 2: Porto Seguro’s Safe Driver Prediction"
      ]
    },
    {
      "cell_type": "markdown",
      "metadata": {
        "id": "kYz6XDd6yTH0"
      },
      "source": [
        "Let's build a model that predicts the probability that a driver will initiate an auto insurance claim in the next year.\n",
        "Read the detailed description and download the dataset https://www.kaggle.com/c/porto-seguro-safe-driver-prediction/data. Put the data into *./data/porto/*."
      ]
    },
    {
      "cell_type": "code",
      "metadata": {
        "id": "4T1XqxlayTH1"
      },
      "source": [
        "insurance_data = pd.read_csv(os.path.join(PATH, 'porto', 'train.csv')).set_index('id')"
      ],
      "execution_count": null,
      "outputs": []
    },
    {
      "cell_type": "code",
      "metadata": {
        "id": "Jnp8F7SPyTH1"
      },
      "source": [
        "insurance_data.head()"
      ],
      "execution_count": null,
      "outputs": []
    },
    {
      "cell_type": "markdown",
      "metadata": {
        "id": "feobmijWyTH2"
      },
      "source": [
        "Let's skip EDA for now. We'll use SGDClassifier and build a simple baseline: https://scikit-learn.org/stable/modules/generated/sklearn.linear_model.SGDClassifier.html.\n",
        "Note that loss='log' gives logistic regression."
      ]
    },
    {
      "cell_type": "code",
      "metadata": {
        "id": "gB_79KiayTH2"
      },
      "source": [
        "y = insurance_data['target']\n",
        "X = insurance_data.drop(columns=['target'])"
      ],
      "execution_count": null,
      "outputs": []
    },
    {
      "cell_type": "code",
      "metadata": {
        "id": "DJ6pbaNryTH2"
      },
      "source": [
        "numeric_features = [column for column in X if not (column.endswith(\"cat\") or column.endswith(\"bin\"))]\n",
        "numeric_transformer = Pipeline(steps=[('scaler', StandardScaler())])\n",
        "\n",
        "categorical_features = [column for column in X if (column.endswith(\"cat\") or column.endswith(\"bin\"))]\n",
        "categorical_transformer = Pipeline(steps=[('encoder', OneHotEncoder(handle_unknown='ignore'))])\n",
        "\n",
        "preprocessor = ColumnTransformer(\n",
        "    transformers=[\n",
        "        ('num', numeric_transformer, numeric_features),\n",
        "        ('cat', categorical_transformer, categorical_features)])\n",
        "\n",
        "pipeline = Pipeline(steps=[('preprocessor', preprocessor),\n",
        "                           ('classifier', SGDClassifier(loss='log', alpha=0.001, n_jobs=-1, random_state=14))])"
      ],
      "execution_count": null,
      "outputs": []
    },
    {
      "cell_type": "code",
      "metadata": {
        "id": "x_QMcA6PyTH3"
      },
      "source": [
        "X_train, X_valid, y_train, y_valid = train_test_split(X, y, test_size=0.3, random_state=42)"
      ],
      "execution_count": null,
      "outputs": []
    },
    {
      "cell_type": "code",
      "metadata": {
        "id": "36VK1HnIyTH3"
      },
      "source": [
        "clf = pipeline.fit(X_train, y_train)"
      ],
      "execution_count": null,
      "outputs": []
    },
    {
      "cell_type": "markdown",
      "metadata": {
        "id": "cfhOfMkbyTH4"
      },
      "source": [
        "We'll calculate the model accuracy:"
      ]
    },
    {
      "cell_type": "code",
      "metadata": {
        "id": "yPFXEAuayTH4"
      },
      "source": [
        "accuracy_score(y_true=y_valid, y_pred=clf.predict(X_valid))"
      ],
      "execution_count": null,
      "outputs": []
    },
    {
      "cell_type": "markdown",
      "metadata": {
        "id": "wMnck9DayTH5"
      },
      "source": [
        "Wow! Our model gets ~0.963 accuracy! But is it really good?...\n",
        "\n",
        "Let's plot the confusion matrix and analyze the errors."
      ]
    },
    {
      "cell_type": "code",
      "metadata": {
        "id": "K0vR0-QZyTH5"
      },
      "source": [
        "disp = plot_confusion_matrix(clf, X_valid, y_valid,\n",
        "                             cmap=plt.cm.Blues,\n",
        "                             normalize=None)"
      ],
      "execution_count": null,
      "outputs": []
    },
    {
      "cell_type": "markdown",
      "metadata": {
        "id": "1Bi0J4AmyTH6"
      },
      "source": [
        "Well, it turns out that our model is completely useless. Let's calculate some basic statistics:"
      ]
    },
    {
      "cell_type": "code",
      "metadata": {
        "scrolled": true,
        "id": "7iETCFO8yTH6"
      },
      "source": [
        "insurance_data.describe()"
      ],
      "execution_count": null,
      "outputs": []
    },
    {
      "cell_type": "markdown",
      "metadata": {
        "id": "Z3EKCNbXyTH7"
      },
      "source": [
        "As you see, there are less than 4% of positive examples, so we have to deal with a highly imbalanced dataset."
      ]
    },
    {
      "cell_type": "code",
      "metadata": {
        "id": "AiItmb8OyTH7"
      },
      "source": [
        "sns.countplot(x='target', data=insurance_data)\n",
        "plt.show()"
      ],
      "execution_count": null,
      "outputs": []
    },
    {
      "cell_type": "markdown",
      "metadata": {
        "id": "42ELeOzUyTH7"
      },
      "source": [
        "Accuracy is not informative here and the Normalized Gini Coefficient will be used instead: https://www.kaggle.com/c/porto-seguro-safe-driver-prediction/overview/evaluation."
      ]
    },
    {
      "cell_type": "code",
      "metadata": {
        "id": "vx1258H4yTH8"
      },
      "source": [
        "# Code for calculating Normalized gini coefficient\n",
        "# https://www.kaggle.com/c/ClaimPredictionChallenge/discussion/703\n",
        "def gini(actual, pred, cmpcol = 0, sortcol = 1):  \n",
        "    assert(len(actual) == len(pred))  \n",
        "    epsilon = 1e-7\n",
        "    values = np.asarray(np.c_[actual, pred, np.arange(len(actual))], dtype=np.float)  \n",
        "    values = values[np.lexsort((values[:, 2], -1 * values[:, 1]))]  \n",
        "    total = values[:, 0].sum() \n",
        "    gini_sum = (values[:, 0].cumsum().sum() + epsilon) / (total + epsilon)  \n",
        "  \n",
        "    gini_sum -= (len(actual) + 1) / 2  \n",
        "    return gini_sum / len(actual)  \n",
        "  \n",
        "def gini_normalized(a, p):  \n",
        "    '''Function to calculate the normalized gini coefficient'''\n",
        "    return gini(a, p) / gini(a, a)"
      ],
      "execution_count": null,
      "outputs": []
    },
    {
      "cell_type": "markdown",
      "metadata": {
        "id": "jqsp3S64yTH8"
      },
      "source": [
        "**(1.5 points)** Prove that the **Normalized Gini Coefficient** is equivalent to **2 x AUC - 1** :"
      ]
    },
    {
      "cell_type": "markdown",
      "metadata": {
        "id": "x6yThdiOyTH8"
      },
      "source": [
        "< your proof >"
      ]
    },
    {
      "cell_type": "markdown",
      "metadata": {
        "id": "9tDtjrEgfL8L"
      },
      "source": [
        ""
      ]
    },
    {
      "cell_type": "markdown",
      "metadata": {
        "id": "ZTfLreyxyTH9"
      },
      "source": [
        "**(0.5 points)** By the way, what other metrics could you suggest for this problem?"
      ]
    },
    {
      "cell_type": "markdown",
      "metadata": {
        "id": "ZITvtKwmyTH9"
      },
      "source": [
        "< your thoughts >"
      ]
    },
    {
      "cell_type": "markdown",
      "metadata": {
        "id": "i3KYZrCxyTH9"
      },
      "source": [
        "Let's calculate the Normalized Gini Coefficient:"
      ]
    },
    {
      "cell_type": "code",
      "metadata": {
        "id": "xPM5K3anyTH-"
      },
      "source": [
        "y_pred = clf.predict_proba(X_valid)[:, 1]"
      ],
      "execution_count": null,
      "outputs": []
    },
    {
      "cell_type": "code",
      "metadata": {
        "id": "932PVvJxyTH-"
      },
      "source": [
        "gini_normalized(y_valid, y_pred)"
      ],
      "execution_count": null,
      "outputs": []
    },
    {
      "cell_type": "markdown",
      "metadata": {
        "id": "MwNofbX9yTH-"
      },
      "source": [
        "**(0.5 points + Y bonus points)** Try different approaches: oversampling / undersampling, careful feature analysis and feature engineering, etc., to get a reasonable pipeline and improve the model quality. Use cross-validation for model evaluation.\n",
        "\n",
        "Select the best model, load the test set and make the predictions. Submit them to kaggle.\n",
        "Y bonus points will be calculated as $\\frac{round(200 * \\max(score - 0.253, 0))}{2}$, where *score* is your kaggle leaderboard score.\n",
        "\n",
        "Note: do not use any classification models which have not been covered in the lessons yet."
      ]
    },
    {
      "cell_type": "code",
      "metadata": {
        "id": "SZjCrE4ByTH_"
      },
      "source": [
        "## your code"
      ],
      "execution_count": null,
      "outputs": []
    }
  ]
}